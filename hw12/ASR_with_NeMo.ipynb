{
 "cells": [
  {
   "cell_type": "code",
   "execution_count": 1,
   "metadata": {
    "id": "lJz6FDU1lRzc"
   },
   "outputs": [
    {
     "name": "stdout",
     "output_type": "stream",
     "text": [
      "Requirement already satisfied: wget in /opt/conda/lib/python3.8/site-packages (3.2)\n",
      "\u001b[33mWARNING: Running pip as the 'root' user can result in broken permissions and conflicting behaviour with the system package manager. It is recommended to use a virtual environment instead: https://pip.pypa.io/warnings/venv\u001b[0m\n",
      "Reading package lists... Done\n",
      "Building dependency tree       \n",
      "Reading state information... Done\n",
      "ffmpeg is already the newest version (7:4.2.4-1ubuntu0.1).\n",
      "libsndfile1 is already the newest version (1.0.28-7ubuntu0.1).\n",
      "sox is already the newest version (14.4.2+git20190427-2).\n",
      "0 upgraded, 0 newly installed, 0 to remove and 0 not upgraded.\n",
      "Requirement already satisfied: unidecode in /opt/conda/lib/python3.8/site-packages (1.3.2)\n",
      "\u001b[33mWARNING: Running pip as the 'root' user can result in broken permissions and conflicting behaviour with the system package manager. It is recommended to use a virtual environment instead: https://pip.pypa.io/warnings/venv\u001b[0m\n",
      "\u001b[33mWARNING: Running pip as the 'root' user can result in broken permissions and conflicting behaviour with the system package manager. It is recommended to use a virtual environment instead: https://pip.pypa.io/warnings/venv\u001b[0m\n",
      "--2021-11-23 02:39:04--  https://raw.githubusercontent.com/NVIDIA/NeMo/r1.4.0/examples/asr/conf/config.yaml\n",
      "Resolving raw.githubusercontent.com (raw.githubusercontent.com)... 185.199.109.133, 185.199.110.133, 185.199.111.133, ...\n",
      "Connecting to raw.githubusercontent.com (raw.githubusercontent.com)|185.199.109.133|:443... connected.\n",
      "HTTP request sent, awaiting response... 200 OK\n",
      "Length: 4040 (3.9K) [text/plain]\n",
      "Saving to: ‘configs/config.yaml’\n",
      "\n",
      "config.yaml         100%[===================>]   3.95K  --.-KB/s    in 0s      \n",
      "\n",
      "2021-11-23 02:39:04 (78.0 MB/s) - ‘configs/config.yaml’ saved [4040/4040]\n",
      "\n"
     ]
    },
    {
     "data": {
      "text/plain": [
       "'\\nRemember to restart the runtime for the kernel to pick up any upgraded packages (e.g. matplotlib)!\\nAlternatively, you can uncomment the exit() below to crash and restart the kernel, in the case\\nthat you want to use the \"Run All Cells\" (or similar) option.\\n'"
      ]
     },
     "execution_count": 1,
     "metadata": {},
     "output_type": "execute_result"
    }
   ],
   "source": [
    "\"\"\"\n",
    "You can run either this notebook locally (if you have all the dependencies and a GPU) or on Google Colab.\n",
    "\n",
    "Instructions for setting up Colab are as follows:\n",
    "1. Open a new Python 3 notebook.\n",
    "2. Import this notebook from GitHub (File -> Upload Notebook -> \"GITHUB\" tab -> copy/paste GitHub URL)\n",
    "3. Connect to an instance with a GPU (Runtime -> Change runtime type -> select \"GPU\" for hardware accelerator)\n",
    "4. Run this cell to set up dependencies.\n",
    "5. Restart the runtime (Runtime -> Restart Runtime) for any upgraded packages to take effect\n",
    "\"\"\"\n",
    "# If you're using Google Colab and not running locally, run this cell.\n",
    "\n",
    "## Install dependencies\n",
    "!pip install wget\n",
    "!apt-get install sox libsndfile1 ffmpeg\n",
    "!pip install unidecode\n",
    "!pip install matplotlib>=3.3.2\n",
    "\n",
    "## Install NeMo\n",
    "BRANCH = 'r1.4.0'\n",
    "# !python -m pip install git+https://github.com/NVIDIA/NeMo.git@$BRANCH#egg=nemo_toolkit[all]\n",
    "\n",
    "## Grab the config we'll use in this example\n",
    "!mkdir configs\n",
    "!wget -P configs/ https://raw.githubusercontent.com/NVIDIA/NeMo/$BRANCH/examples/asr/conf/config.yaml\n",
    "\n",
    "\"\"\"\n",
    "Remember to restart the runtime for the kernel to pick up any upgraded packages (e.g. matplotlib)!\n",
    "Alternatively, you can uncomment the exit() below to crash and restart the kernel, in the case\n",
    "that you want to use the \"Run All Cells\" (or similar) option.\n",
    "\"\"\"\n",
    "# exit()"
   ]
  },
  {
   "cell_type": "markdown",
   "metadata": {
    "id": "v1Jk9etFlRzf"
   },
   "source": [
    "# Introduction to End-To-End Automatic Speech Recognition\n",
    "\n",
    "This notebook contains a basic tutorial of Automatic Speech Recognition (ASR) concepts, introduced with code snippets using the [NeMo framework](https://github.com/NVIDIA/NeMo).\n",
    "We will first introduce the basics of the main concepts behind speech recognition, then explore concrete examples of what the data looks like and walk through putting together a simple end-to-end ASR pipeline.\n",
    "\n",
    "We assume that you are familiar with general machine learning concepts and can follow Python code, and we'll be using the [AN4 dataset from CMU](http://www.speech.cs.cmu.edu/databases/an4/) (with processing using `sox`)."
   ]
  },
  {
   "cell_type": "markdown",
   "metadata": {
    "id": "YLln3U-IlRzg"
   },
   "source": [
    "## Conceptual Overview: What is ASR?\n",
    "\n",
    "ASR, or **Automatic Speech Recognition**, refers to the problem of getting a program to automatically transcribe spoken language (speech-to-text). Our goal is usually to have a model that minimizes the **Word Error Rate (WER)** metric when transcribing speech input. In other words, given some audio file (e.g. a WAV file) containing speech, how do we transform this into the corresponding text with as few errors as possible?\n",
    "\n",
    "Traditional speech recognition takes a generative approach, modeling the full pipeline of how speech sounds are produced in order to evaluate a speech sample. We would start from a **language model** that encapsulates the most likely orderings of words that are generated (e.g. an n-gram model), to a **pronunciation model** for each word in that ordering (e.g. a pronunciation table), to an **acoustic model** that translates those pronunciations to audio waveforms (e.g. a Gaussian Mixture Model).\n",
    "\n",
    "Then, if we receive some spoken input, our goal would be to find the most likely sequence of text that would result in the given audio according to our generative pipeline of models. Overall, with traditional speech recognition, we try to model `Pr(audio|transcript)*Pr(transcript)`, and take the argmax of this over possible transcripts.\n",
    "\n",
    "Over time, neural nets advanced to the point where each component of the traditional speech recognition model could be replaced by a neural model that had better performance and that had a greater potential for generalization. For example, we could replace an n-gram model with a neural language model, and replace a pronunciation table with a neural pronunciation model, and so on. However, each of these neural models need to be trained individually on different tasks, and errors in any model in the pipeline could throw off the whole prediction.\n",
    "\n",
    "Thus, we can see the appeal of **end-to-end ASR architectures**: discriminative models that simply take an audio input and give a textual output, and in which all components of the architecture are trained together towards the same goal. The model's encoder would be akin to an acoustic model for extracting speech features, which can then be directly piped to a decoder which outputs text. If desired, we could integrate a language model that would improve our predictions, as well.\n",
    "\n",
    "And the entire end-to-end ASR model can be trained at once--a much easier pipeline to handle! "
   ]
  },
  {
   "cell_type": "markdown",
   "metadata": {
    "id": "0S5iZPMSlRzg"
   },
   "source": [
    "### End-To-End ASR\n",
    "\n",
    "With an end-to-end model, we want to directly learn `Pr(transcript|audio)` in order to predict the transcripts from the original audio. Since we are dealing with sequential information--audio data over time that corresponds to a sequence of letters--RNNs are the obvious choice. But now we have a pressing problem to deal with: since our input sequence (number of audio timesteps) is not the same length as our desired output (transcript length), how do we match each time step from the audio data to the correct output characters?\n",
    "\n",
    "Earlier speech recognition approaches relied on **temporally-aligned data**, in which each segment of time in an audio file was matched up to a corresponding speech sound such as a phoneme or word. However, if we would like to have the flexibility to predict letter-by-letter to prevent OOV (out of vocabulary) issues, then each time step in the data would have to be labeled with the letter sound that the speaker is making at that point in the audio file. With that information, it seems like we should simply be able to try to predict the correct letter for each time step and then collapse the repeated letters (e.g. the prediction output `LLLAAAAPPTOOOPPPP` would become `LAPTOP`). It turns out that this idea has some problems: not only does alignment make the dataset incredibly labor-intensive to label, but also, what do we do with words like \"book\" that contain consecutive repeated letters? Simply squashing repeated letters together would not work in that case!\n",
    "\n",
    "![Alignment example](https://raw.githubusercontent.com/NVIDIA/NeMo/stable/tutorials/asr/images/alignment_example.png)\n",
    "\n",
    "Modern end-to-end approaches get around this using methods that don't require manual alignment at all, so that the input-output pairs are really just the raw audio and the transcript--no extra data or labeling required. Let's briefly go over two popular approaches that allow us to do this, Connectionist Temporal Classification (CTC) and sequence-to-sequence models with attention.\n",
    "\n",
    "#### Connectionist Temporal Classification (CTC)\n",
    "\n",
    "In normal speech recognition prediction output, we would expect to have characters such as the letters from A through Z, numbers 0 through 9, spaces (\"\\_\"), and so on. CTC introduces a new intermediate output token called the **blank token** (\"-\") that is useful for getting around the alignment issue.\n",
    "\n",
    "With CTC, we still predict one token per time segment of speech, but we use the blank token to figure out where we can and can't collapse the predictions. The appearance of a blank token helps separate repeating letters that should not be collapsed. For instance, with an audio snippet segmented into `T=11` time steps, we could get predictions that look like `BOO-OOO--KK`, which would then collapse to `\"BO-O-K\"`, and then we would remove the blank tokens to get our final output, `BOOK`.\n",
    "\n",
    "Now, we can predict one output token per time step, then collapse and clean to get sensible output without any fear of ambiguity from repeating letters! A simple way of getting predictions like this would be to apply a bidirectional RNN to the audio input, apply softmax over each time step's output, and then take the token with the highest probability. The method of always taking the best token at each time step is called **greedy decoding, or max decoding**.\n",
    "\n",
    "To calculate our loss for backprop, we would like to know the log probability of the model producing the correct transcript, `log(Pr(transcript|audio))`. We can get the log probability of a single intermediate output sequence (e.g. `BOO-OOO--KK`) by summing over the log probabilities we get from each token's softmax value, but note that the resulting sum is different from the log probability of the transcript itself (`BOOK`). This is because there are multiple possible output sequences of the same length that can be collapsed to get the same transcript (e.g. `BBO--OO-KKK` also results in `BOOK`), and so we need to **marginalize over every valid sequence of length `T` that collapses to the transcript**.\n",
    "\n",
    "Therefore, to get our transcript's log probability given our audio input, we must sum the log probabilities of every sequence of length `T` that collapses to the transcript (e.g. `log(Pr(output: \"BOOK\"|audio)) = log(Pr(BOO-OOO--KK|audio)) + log(Pr(BBO--OO-KKK|audio)) + ...`). In practice, we can use a dynamic programming approach to calculate this, accumulating our log probabilities over different \"paths\" through the softmax outputs at each time step.\n",
    "\n",
    "If you would like a more in-depth explanation of how CTC works, or how we can improve our results by using a modified beam search algorithm, feel free to check out the Further Reading section at the end of this notebook for more resources.\n",
    "\n",
    "#### Sequence-to-Sequence with Attention\n",
    "\n",
    "One problem with CTC is that predictions at different time steps are conditionally independent, which is an issue because the words in a continuous utterance tend to be related to each other in some sensible way. With this conditional independence assumption, we can't learn a language model that can represent such dependencies, though we can add a language model on top of the CTC output to mitigate this to some degree.\n",
    "\n",
    "A popular alternative is to use a sequence-to-sequence model with attention. A typical seq2seq model for ASR consists of some sort of **bidirectional RNN encoder** that consumes the audio sequence timestep-by-timestep, and where the outputs are then passed to an **attention-based decoder**. Each prediction from the decoder is based on attending to some parts of the entire encoded input, as well as the previously outputted tokens.\n",
    "\n",
    "The outputs of the decoder can be anything from word pieces to phonemes to letters, and since predictions are not directly tied to time steps of the input, we can just continue producing tokens one-by-one until an end token is given (or we reach a specified max output length). This way, we do not need to deal with audio alignment, and our predicted transcript is just the sequence of outputs given by our decoder.\n",
    "\n",
    "Now that we have an idea of what some popular end-to-end ASR models look like, let's take a look at the audio data we'll be working with for our example."
   ]
  },
  {
   "cell_type": "markdown",
   "metadata": {
    "id": "38aYTCTIlRzh"
   },
   "source": [
    "## Taking a Look at Our Data (AN4)\n",
    "\n",
    "The AN4 dataset, also known as the Alphanumeric dataset, was collected and published by Carnegie Mellon University. It consists of recordings of people spelling out addresses, names, telephone numbers, etc., one letter or number at a time, as well as their corresponding transcripts. We choose to use AN4 for this tutorial because it is relatively small, with 948 training and 130 test utterances, and so it trains quickly.\n",
    "\n",
    "Before we get started, let's download and prepare the dataset. The utterances are available as `.sph` files, so we will need to convert them to `.wav` for later processing. If you are not using Google Colab, please make sure you have [Sox](http://sox.sourceforge.net/) installed for this step--see the \"Downloads\" section of the linked Sox homepage. (If you are using Google Colab, Sox should have already been installed in the setup cell at the beginning.)"
   ]
  },
  {
   "cell_type": "code",
   "execution_count": 2,
   "metadata": {
    "id": "gAhsmi6HlRzh"
   },
   "outputs": [],
   "source": [
    "# This is where the an4/ directory will be placed.\n",
    "# Change this if you don't want the data to be extracted in the current directory.\n",
    "data_dir = '.'"
   ]
  },
  {
   "cell_type": "code",
   "execution_count": 3,
   "metadata": {
    "id": "Yb4fuUvWlRzk",
    "scrolled": true
   },
   "outputs": [
    {
     "name": "stdout",
     "output_type": "stream",
     "text": [
      "******\n",
      "100% [....................................................] 64327561 / 64327561Dataset downloaded at: ./an4_sphere.tar.gz\n",
      "Converting .sph to .wav...\n",
      "Finished conversion.\n",
      "******\n"
     ]
    }
   ],
   "source": [
    "import glob\n",
    "import os\n",
    "import subprocess\n",
    "import tarfile\n",
    "import wget\n",
    "\n",
    "# Download the dataset. This will take a few moments...\n",
    "print(\"******\")\n",
    "if not os.path.exists(data_dir + '/an4_sphere.tar.gz'):\n",
    "    an4_url = 'http://www.speech.cs.cmu.edu/databases/an4/an4_sphere.tar.gz'\n",
    "    an4_path = wget.download(an4_url, data_dir)\n",
    "    print(f\"Dataset downloaded at: {an4_path}\")\n",
    "else:\n",
    "    print(\"Tarfile already exists.\")\n",
    "    an4_path = data_dir + '/an4_sphere.tar.gz'\n",
    "\n",
    "if not os.path.exists(data_dir + '/an4/'):\n",
    "    # Untar and convert .sph to .wav (using sox)\n",
    "    tar = tarfile.open(an4_path)\n",
    "    tar.extractall(path=data_dir)\n",
    "\n",
    "    print(\"Converting .sph to .wav...\")\n",
    "    sph_list = glob.glob(data_dir + '/an4/**/*.sph', recursive=True)\n",
    "    for sph_path in sph_list:\n",
    "        wav_path = sph_path[:-4] + '.wav'\n",
    "        cmd = [\"sox\", sph_path, wav_path]\n",
    "        subprocess.run(cmd)\n",
    "print(\"Finished conversion.\\n******\")"
   ]
  },
  {
   "cell_type": "markdown",
   "metadata": {
    "id": "m_LFeM0elRzm"
   },
   "source": [
    "You should now have a folder called `an4` that contains `etc/an4_train.transcription`, `etc/an4_test.transcription`, audio files in `wav/an4_clstk` and `wav/an4test_clstk`, along with some other files we will not need.\n",
    "\n",
    "Now we can load and take a look at the data. As an example, file `cen2-mgah-b.wav` is a 2.6 second-long audio recording of a man saying the letters \"G L E N N\" one-by-one. To confirm this, we can listen to the file:"
   ]
  },
  {
   "cell_type": "code",
   "execution_count": 4,
   "metadata": {
    "id": "_M_bSs3MjQlz"
   },
   "outputs": [
    {
     "data": {
      "text/html": [
       "\n",
       "                <audio  controls=\"controls\" >\n",
       "                    <source src=\"data:audio/x-wav;base64,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\" type=\"audio/x-wav\" />\n",
       "                    Your browser does not support the audio element.\n",
       "                </audio>\n",
       "              "
      ],
      "text/plain": [
       "<IPython.lib.display.Audio object>"
      ]
     },
     "execution_count": 4,
     "metadata": {},
     "output_type": "execute_result"
    }
   ],
   "source": [
    "import librosa\n",
    "import IPython.display as ipd\n",
    "\n",
    "# Load and listen to the audio file\n",
    "example_file = data_dir + '/an4/wav/an4_clstk/mgah/cen2-mgah-b.wav'\n",
    "audio, sample_rate = librosa.load(example_file)\n",
    "\n",
    "ipd.Audio(example_file, rate=sample_rate)"
   ]
  },
  {
   "cell_type": "markdown",
   "metadata": {
    "id": "qZyElgPVjQl5"
   },
   "source": [
    "In an ASR task, if this WAV file was our input, then \"G L E N N\" would be our desired output.\n",
    "\n",
    "Let's plot the waveform, which is simply a line plot of the sequence of values that we read from the file. This is a format of viewing audio that you are likely to be familiar with seeing in many audio editors and visualizers:"
   ]
  },
  {
   "cell_type": "code",
   "execution_count": 5,
   "metadata": {
    "id": "MqIAKkqelRzm"
   },
   "outputs": [
    {
     "data": {
      "image/png": "[encoded data removed]",
      "text/plain": [
       "<Figure size 1080x504 with 1 Axes>"
      ]
     },
     "metadata": {
      "needs_background": "light"
     },
     "output_type": "display_data"
    }
   ],
   "source": [
    "%matplotlib inline\n",
    "import librosa.display\n",
    "import matplotlib.pyplot as plt\n",
    "\n",
    "# Plot our example audio file's waveform\n",
    "plt.rcParams['figure.figsize'] = (15,7)\n",
    "plt.title('Waveform of Audio Example')\n",
    "plt.ylabel('Amplitude')\n",
    "\n",
    "_ = librosa.display.waveplot(audio)"
   ]
  },
  {
   "cell_type": "markdown",
   "metadata": {
    "id": "Gg6RR_yolRzo"
   },
   "source": [
    "We can see the activity in the waveform that corresponds to each letter in the audio, as our speaker here enunciates quite clearly!\n",
    "You can kind of tell that each spoken letter has a different \"shape,\" and it's interesting to note that last two blobs look relatively similar, which is expected because they are both the letter \"N.\"\n",
    "\n",
    "### Spectrograms and Mel Spectrograms\n",
    "\n",
    "However, since audio information is more useful in the context of frequencies of sound over time, we can get a better representation than this raw sequence of 57,330 values.\n",
    "We can apply a [Fourier Transform](https://en.wikipedia.org/wiki/Fourier_transform) on our audio signal to get something more useful: a **spectrogram**, which is a representation of the energy levels (i.e. amplitude, or \"loudness\") of each frequency (i.e. pitch) of the signal over the duration of the file.\n",
    "A spectrogram (which can be viewed as a heat map) is a good way of seeing how the *strengths of various frequencies in the audio vary over time*, and is obtained by breaking up the signal into smaller, usually overlapping chunks and performing a Short-Time Fourier Transform (STFT) on each.\n",
    "\n",
    "Let's examine what the spectrogram of our sample looks like."
   ]
  },
  {
   "cell_type": "code",
   "execution_count": 6,
   "metadata": {
    "id": "oCFneEs1lRzp"
   },
   "outputs": [
    {
     "data": {
      "image/png": "[encoded data removed]",
      "text/plain": [
       "<Figure size 1080x504 with 2 Axes>"
      ]
     },
     "metadata": {
      "needs_background": "light"
     },
     "output_type": "display_data"
    }
   ],
   "source": [
    "import numpy as np\n",
    "\n",
    "# Get spectrogram using Librosa's Short-Time Fourier Transform (stft)\n",
    "spec = np.abs(librosa.stft(audio))\n",
    "spec_db = librosa.amplitude_to_db(spec, ref=np.max)  # Decibels\n",
    "\n",
    "# Use log scale to view frequencies\n",
    "librosa.display.specshow(spec_db, y_axis='log', x_axis='time')\n",
    "plt.colorbar()\n",
    "plt.title('Audio Spectrogram');"
   ]
  },
  {
   "cell_type": "markdown",
   "metadata": {
    "id": "9OPc4tcalRzs"
   },
   "source": [
    "Again, we are able to see each letter being pronounced, and that the last two blobs that correspond to the \"N\"s are pretty similar-looking. But how do we interpret these shapes and colors? Just as in the waveform plot before, we see time passing on the x-axis (all 2.6s of audio). But now, the y-axis represents different frequencies (on a log scale), and *the color on the plot shows the strength of a frequency at a particular point in time*.\n",
    "\n",
    "We're still not done yet, as we can make one more potentially useful tweak: using the **Mel Spectrogram** instead of the normal spectrogram. This is simply a change in the frequency scale that we use from linear (or logarithmic) to the mel scale, which is \"a perceptual scale of pitches judged by listeners to be equal in distance from one another\" (from [Wikipedia](https://en.wikipedia.org/wiki/Mel_scale)).\n",
    "\n",
    "In other words, it's a transformation of the frequencies to be more aligned to what humans perceive; a change of +1000Hz from 2000Hz->3000Hz sounds like a larger difference to us than 9000Hz->10000Hz does, so the mel scale normalizes this such that equal distances sound like equal differences to the human ear. Intuitively, we use the mel spectrogram because in this case we are processing and transcribing human speech, such that transforming the scale to better match what we hear is a useful procedure."
   ]
  },
  {
   "cell_type": "code",
   "execution_count": 7,
   "metadata": {
    "id": "7yQXVn-TlRzt"
   },
   "outputs": [
    {
     "data": {
      "image/png": "[encoded data removed]",
      "text/plain": [
       "<Figure size 1080x504 with 2 Axes>"
      ]
     },
     "metadata": {
      "needs_background": "light"
     },
     "output_type": "display_data"
    }
   ],
   "source": [
    "# Plot the mel spectrogram of our sample\n",
    "mel_spec = librosa.feature.melspectrogram(audio, sr=sample_rate)\n",
    "mel_spec_db = librosa.power_to_db(mel_spec, ref=np.max)\n",
    "\n",
    "librosa.display.specshow(\n",
    "    mel_spec_db, x_axis='time', y_axis='mel')\n",
    "plt.colorbar()\n",
    "plt.title('Mel Spectrogram');"
   ]
  },
  {
   "cell_type": "markdown",
   "metadata": {
    "id": "RSCyVizDlRz1"
   },
   "source": [
    "## Convolutional ASR Models\n",
    "\n",
    "Let's take a look at the model that we will be building, and how we specify its parameters.\n",
    "\n",
    "### The Jasper Model\n",
    "\n",
    "We will be training a small [Jasper (Just Another SPeech Recognizer) model](https://arxiv.org/abs/1904.03288) from scratch (e.g. initialized randomly). \n",
    "In brief, Jasper architectures consist of a repeated block structure that utilizes 1D convolutions.\n",
    "In a Jasper_KxR model, `R` sub-blocks (consisting of a 1D convolution, batch norm, ReLU, and dropout) are grouped into a single block, which is then repeated `K` times.\n",
    "We also have a one extra block at the beginning and a few more at the end that are invariant of `K` and `R`, and we use CTC loss.\n",
    "\n",
    "### The QuartzNet Model\n",
    "\n",
    "The QuartzNet is better variant of Jasper with a key difference that it uses time-channel separable 1D convolutions. This allows it to dramatically reduce number of weights while keeping similar accuracy.\n",
    "\n",
    "A Jasper/QuartzNet models look like this (QuartzNet model is pictured):\n",
    "\n",
    "![QuartzNet with CTC](https://developer.nvidia.com/blog/wp-content/uploads/2020/05/quartznet-model-architecture-1-625x742.png)"
   ]
  },
  {
   "cell_type": "markdown",
   "metadata": {
    "id": "gEpNci7slRzw"
   },
   "source": [
    "# Using NeMo for Automatic Speech Recognition\n",
    "\n",
    "Now that we have an idea of what ASR is and how the audio data looks like, we can start using NeMo to do some ASR!\n",
    "\n",
    "We'll be using the **Neural Modules (NeMo) toolkit** for this part, so if you haven't already, you should download and install NeMo and its dependencies. To do so, just follow the directions on the [GitHub page](https://github.com/NVIDIA/NeMo), or in the [documentation](https://docs.nvidia.com/deeplearning/nemo/user-guide/docs/en/stable/).\n",
    "\n",
    "NeMo lets us easily hook together the components (modules) of our model, such as the data layer, intermediate layers, and various losses, without worrying too much about implementation details of individual parts or connections between modules. NeMo also comes with complete models which only require your data and hyperparameters for training."
   ]
  },
  {
   "cell_type": "code",
   "execution_count": 8,
   "metadata": {
    "id": "4_W0lhaQlRzx"
   },
   "outputs": [
    {
     "name": "stderr",
     "output_type": "stream",
     "text": [
      "################################################################################\n",
      "### WARNING, path does not exist: KALDI_ROOT=/mnt/matylda5/iveselyk/Tools/kaldi-trunk\n",
      "###          (please add 'export KALDI_ROOT=<your_path>' in your $HOME/.profile)\n",
      "###          (or run as: KALDI_ROOT=<your_path> python <your_script>.py)\n",
      "################################################################################\n",
      "\n",
      "[NeMo W 2021-11-23 02:39:19 experimental:27] Module <class 'nemo.collections.asr.data.audio_to_text_dali._AudioTextDALIDataset'> is experimental, not ready for production and is not fully supported. Use at your own risk.\n"
     ]
    }
   ],
   "source": [
    "# NeMo's \"core\" package\n",
    "import nemo\n",
    "# NeMo's ASR collection - this collections contains complete ASR models and\n",
    "# building blocks (modules) for ASR\n",
    "import nemo.collections.asr as nemo_asr"
   ]
  },
  {
   "cell_type": "markdown",
   "metadata": {
    "id": "v_W8EbYktZE3"
   },
   "source": [
    "## Using an Out-of-the-Box Model\n",
    "\n",
    "NeMo's ASR collection comes with many building blocks and even complete models that we can use for training and evaluation. Moreover, several models come with pre-trained weights. Let's instantiate a complete QuartzNet15x5 model."
   ]
  },
  {
   "cell_type": "code",
   "execution_count": 9,
   "metadata": {
    "id": "KFZZpYult96G"
   },
   "outputs": [
    {
     "name": "stdout",
     "output_type": "stream",
     "text": [
      "[NeMo I 2021-11-23 02:39:19 cloud:66] Downloading from: https://api.ngc.nvidia.com/v2/models/nvidia/nemospeechmodels/versions/1.0.0a5/files/QuartzNet15x5Base-En.nemo to /root/.cache/torch/NeMo/NeMo_1.4.0/QuartzNet15x5Base-En/2b066be39e9294d7100fb176ec817722/QuartzNet15x5Base-En.nemo\n",
      "100% [....................................................] 71087043 / 71087043[NeMo I 2021-11-23 02:39:24 common:702] Instantiating model from pre-trained checkpoint\n",
      "[NeMo I 2021-11-23 02:39:24 features:262] PADDING: 16\n",
      "[NeMo I 2021-11-23 02:39:24 features:279] STFT using torch\n",
      "[NeMo I 2021-11-23 02:39:29 save_restore_connector:143] Model EncDecCTCModel was successfully restored from /root/.cache/torch/NeMo/NeMo_1.4.0/QuartzNet15x5Base-En/2b066be39e9294d7100fb176ec817722/QuartzNet15x5Base-En.nemo.\n"
     ]
    }
   ],
   "source": [
    "# This line will download pre-trained QuartzNet15x5 model from NVIDIA's NGC cloud and instantiate it for you\n",
    "quartznet = nemo_asr.models.EncDecCTCModel.from_pretrained(model_name=\"QuartzNet15x5Base-En\")"
   ]
  },
  {
   "cell_type": "markdown",
   "metadata": {
    "id": "KucxoFJhum0i"
   },
   "source": [
    "Next, we'll simply add paths to files we want to transcribe into the list and pass it to our model. Note that it will work for relatively short (<25 seconds) files. "
   ]
  },
  {
   "cell_type": "code",
   "execution_count": 10,
   "metadata": {
    "id": "3QCpR_93u1hp"
   },
   "outputs": [
    {
     "data": {
      "application/vnd.jupyter.widget-view+json": {
       "model_id": "e357853e3f754529bfc87c1a943e9d45",
       "version_major": 2,
       "version_minor": 0
      },
      "text/plain": [
       "Transcribing:   0%|          | 0/1 [00:00<?, ?it/s]"
      ]
     },
     "metadata": {},
     "output_type": "display_data"
    },
    {
     "name": "stderr",
     "output_type": "stream",
     "text": [
      "[NeMo W 2021-11-23 02:39:29 patch_utils:49] torch.stft() signature has been updated for PyTorch 1.7+\n",
      "    Please update PyTorch to remain compatible with later versions of NeMo.\n",
      "[NeMo W 2021-11-23 02:39:31 nemo_logging:349] /opt/conda/lib/python3.8/site-packages/torch/_tensor.py:565: UserWarning: floor_divide is deprecated, and will be removed in a future version of pytorch. It currently rounds toward 0 (like the 'trunc' function NOT 'floor'). This results in incorrect rounding for negative values.\n",
      "    To keep the current behavior, use torch.div(a, b, rounding_mode='trunc'), or for actual floor division, use torch.div(a, b, rounding_mode='floor'). (Triggered internally at  /opt/pytorch/pytorch/aten/src/ATen/native/BinaryOps.cpp:506.)\n",
      "      return torch.floor_divide(self, other)\n",
      "    \n"
     ]
    },
    {
     "name": "stdout",
     "output_type": "stream",
     "text": [
      "Audio in ./an4/wav/an4_clstk/mgah/cen2-mgah-b.wav was recognized as: g l e n n\n"
     ]
    }
   ],
   "source": [
    "files = ['./an4/wav/an4_clstk/mgah/cen2-mgah-b.wav']\n",
    "for fname, transcription in zip(files, quartznet.transcribe(paths2audio_files=files)):\n",
    "  print(f\"Audio in {fname} was recognized as: {transcription}\")"
   ]
  },
  {
   "cell_type": "markdown",
   "metadata": {
    "id": "ppUm_kuavm_f"
   },
   "source": [
    "That was easy! But there are plenty of scenarios where you would want to fine-tune the model on your own data or even train from scratch. For example, this out-of-the box model will obviously not work for Spanish and would likely perform poorly for telephone audio. So if you have collected your own data, you certainly should attempt to fine-tune or train on it!"
   ]
  },
  {
   "cell_type": "markdown",
   "metadata": {
    "id": "ABUDaC5Js7AW"
   },
   "source": [
    "## Training from Scratch\n",
    "\n",
    "To train from scratch, you need to prepare your training data in the right format and specify your models architecture."
   ]
  },
  {
   "cell_type": "markdown",
   "metadata": {
    "id": "RdNyw1b_zgtm"
   },
   "source": [
    "### Creating Data Manifests\n",
    "\n",
    "The first thing we need to do now is to create manifests for our training and evaluation data, which will contain the metadata of our audio files. NeMo data sets take in a standardized manifest format where each line corresponds to one sample of audio, such that the number of lines in a manifest is equal to the number of samples that are represented by that manifest. A line must contain the path to an audio file, the corresponding transcript (or path to a transcript file), and the duration of the audio sample.\n",
    "\n",
    "Here's an example of what one line in a NeMo-compatible manifest might look like:\n",
    "```\n",
    "{\"audio_filepath\": \"path/to/audio.wav\", \"duration\": 3.45, \"text\": \"this is a nemo tutorial\"}\n",
    "```\n",
    "\n",
    "We can build our training and evaluation manifests using `an4/etc/an4_train.transcription` and `an4/etc/an4_test.transcription`, which have lines containing transcripts and their corresponding audio file IDs:\n",
    "```\n",
    "...\n",
    "<s> P I T T S B U R G H </s> (cen5-fash-b)\n",
    "<s> TWO SIX EIGHT FOUR FOUR ONE EIGHT </s> (cen7-fash-b)\n",
    "...\n",
    "```"
   ]
  },
  {
   "cell_type": "code",
   "execution_count": 11,
   "metadata": {
    "id": "lVB1sG1GlRzz"
   },
   "outputs": [
    {
     "name": "stdout",
     "output_type": "stream",
     "text": [
      "******\n",
      "Training manifest created.\n",
      "Test manifest created.\n",
      "***Done***\n"
     ]
    }
   ],
   "source": [
    "# --- Building Manifest Files --- #\n",
    "import json\n",
    "\n",
    "# Function to build a manifest\n",
    "def build_manifest(transcripts_path, manifest_path, wav_path):\n",
    "    with open(transcripts_path, 'r') as fin:\n",
    "        with open(manifest_path, 'w') as fout:\n",
    "            for line in fin:\n",
    "                # Lines look like this:\n",
    "                # <s> transcript </s> (fileID)\n",
    "                transcript = line[: line.find('(')-1].lower()\n",
    "                transcript = transcript.replace('<s>', '').replace('</s>', '')\n",
    "                transcript = transcript.strip()\n",
    "\n",
    "                file_id = line[line.find('(')+1 : -2]  # e.g. \"cen4-fash-b\"\n",
    "                audio_path = os.path.join(\n",
    "                    data_dir, wav_path,\n",
    "                    file_id[file_id.find('-')+1 : file_id.rfind('-')],\n",
    "                    file_id + '.wav')\n",
    "\n",
    "                duration = librosa.core.get_duration(filename=audio_path)\n",
    "\n",
    "                # Write the metadata to the manifest\n",
    "                metadata = {\n",
    "                    \"audio_filepath\": audio_path,\n",
    "                    \"duration\": duration,\n",
    "                    \"text\": transcript\n",
    "                }\n",
    "                json.dump(metadata, fout)\n",
    "                fout.write('\\n')\n",
    "                \n",
    "# Building Manifests\n",
    "print(\"******\")\n",
    "train_transcripts = data_dir + '/an4/etc/an4_train.transcription'\n",
    "train_manifest = data_dir + '/an4/train_manifest.json'\n",
    "if not os.path.isfile(train_manifest):\n",
    "    build_manifest(train_transcripts, train_manifest, 'an4/wav/an4_clstk')\n",
    "    print(\"Training manifest created.\")\n",
    "\n",
    "test_transcripts = data_dir + '/an4/etc/an4_test.transcription'\n",
    "test_manifest = data_dir + '/an4/test_manifest.json'\n",
    "if not os.path.isfile(test_manifest):\n",
    "    build_manifest(test_transcripts, test_manifest, 'an4/wav/an4test_clstk')\n",
    "    print(\"Test manifest created.\")\n",
    "print(\"***Done***\")"
   ]
  },
  {
   "cell_type": "markdown",
   "metadata": {
    "id": "W2fShQzRzo-M"
   },
   "source": [
    "### Specifying Our Model with a YAML Config File\n",
    "\n",
    "For this tutorial, we'll build a *Jasper_4x1 model*, with `K=4` blocks of single (`R=1`) sub-blocks and a *greedy CTC decoder*, using the configuration found in `./configs/config.yaml`.\n",
    "\n",
    "If we open up this config file, we find model section which describes architecture of our model. A model contains an entry labeled `encoder`, with a field called `jasper` that contains a list with multiple entries. Each of the members in this list specifies one block in our model, and looks something like this:\n",
    "```\n",
    "- filters: 128\n",
    "  repeat: 1\n",
    "  kernel: [11]\n",
    "  stride: [2]\n",
    "  dilation: [1]\n",
    "  dropout: 0.2\n",
    "  residual: false\n",
    "  separable: true\n",
    "  se: true\n",
    "  se_context_size: -1\n",
    "```\n",
    "The first member of the list corresponds to the first block in the Jasper architecture diagram, which appears regardless of `K` and `R`.\n",
    "Next, we have four entries that correspond to the `K=4` blocks, and each has `repeat: 1` since we are using `R=1`.\n",
    "These are followed by two more entries for the blocks that appear at the end of our Jasper model before the CTC loss.\n",
    "\n",
    "There are also some entries at the top of the file that specify how we will handle training (`train_ds`) and validation (`validation_ds`) data.\n",
    "\n",
    "Using a YAML config such as this is helpful for getting a quick and human-readable overview of what your architecture looks like, and allows you to swap out model and run configurations easily without needing to change your code."
   ]
  },
  {
   "cell_type": "code",
   "execution_count": 12,
   "metadata": {
    "id": "PXVKBniMlRz5"
   },
   "outputs": [
    {
     "name": "stdout",
     "output_type": "stream",
     "text": [
      "{'name': 'QuartzNet15x5', 'sample_rate': 16000, 'repeat': 1, 'dropout': 0.0, 'separable': True, 'labels': [' ', 'a', 'b', 'c', 'd', 'e', 'f', 'g', 'h', 'i', 'j', 'k', 'l', 'm', 'n', 'o', 'p', 'q', 'r', 's', 't', 'u', 'v', 'w', 'x', 'y', 'z', \"'\"], 'model': {'train_ds': {'manifest_filepath': '???', 'sample_rate': 16000, 'labels': [' ', 'a', 'b', 'c', 'd', 'e', 'f', 'g', 'h', 'i', 'j', 'k', 'l', 'm', 'n', 'o', 'p', 'q', 'r', 's', 't', 'u', 'v', 'w', 'x', 'y', 'z', \"'\"], 'batch_size': 32, 'trim_silence': True, 'max_duration': 16.7, 'shuffle': True, 'is_tarred': False, 'tarred_audio_filepaths': None, 'tarred_shard_strategy': 'scatter'}, 'validation_ds': {'manifest_filepath': '???', 'sample_rate': 16000, 'labels': [' ', 'a', 'b', 'c', 'd', 'e', 'f', 'g', 'h', 'i', 'j', 'k', 'l', 'm', 'n', 'o', 'p', 'q', 'r', 's', 't', 'u', 'v', 'w', 'x', 'y', 'z', \"'\"], 'batch_size': 32, 'shuffle': False}, 'preprocessor': {'_target_': 'nemo.collections.asr.modules.AudioToMelSpectrogramPreprocessor', 'normalize': 'per_feature', 'window_size': 0.02, 'sample_rate': 16000, 'window_stride': 0.01, 'window': 'hann', 'features': 64, 'n_fft': 512, 'frame_splicing': 1, 'dither': 1e-05, 'stft_conv': False}, 'spec_augment': {'_target_': 'nemo.collections.asr.modules.SpectrogramAugmentation', 'rect_freq': 50, 'rect_masks': 5, 'rect_time': 120}, 'encoder': {'_target_': 'nemo.collections.asr.modules.ConvASREncoder', 'feat_in': 64, 'activation': 'relu', 'conv_mask': True, 'jasper': [{'filters': 128, 'repeat': 1, 'kernel': [11], 'stride': [1], 'dilation': [1], 'dropout': 0.0, 'residual': True, 'separable': True, 'se': True, 'se_context_size': -1}, {'filters': 256, 'repeat': 1, 'kernel': [13], 'stride': [1], 'dilation': [1], 'dropout': 0.0, 'residual': True, 'separable': True, 'se': True, 'se_context_size': -1}, {'filters': 256, 'repeat': 1, 'kernel': [15], 'stride': [1], 'dilation': [1], 'dropout': 0.0, 'residual': True, 'separable': True, 'se': True, 'se_context_size': -1}, {'filters': 256, 'repeat': 1, 'kernel': [17], 'stride': [1], 'dilation': [1], 'dropout': 0.0, 'residual': True, 'separable': True, 'se': True, 'se_context_size': -1}, {'filters': 256, 'repeat': 1, 'kernel': [19], 'stride': [1], 'dilation': [1], 'dropout': 0.0, 'residual': True, 'separable': True, 'se': True, 'se_context_size': -1}, {'filters': 256, 'repeat': 1, 'kernel': [21], 'stride': [1], 'dilation': [1], 'dropout': 0.0, 'residual': False, 'separable': True, 'se': True, 'se_context_size': -1}, {'filters': 1024, 'repeat': 1, 'kernel': [1], 'stride': [1], 'dilation': [1], 'dropout': 0.0, 'residual': False, 'separable': True, 'se': True, 'se_context_size': -1}]}, 'decoder': {'_target_': 'nemo.collections.asr.modules.ConvASRDecoder', 'feat_in': 1024, 'num_classes': 28, 'vocabulary': [' ', 'a', 'b', 'c', 'd', 'e', 'f', 'g', 'h', 'i', 'j', 'k', 'l', 'm', 'n', 'o', 'p', 'q', 'r', 's', 't', 'u', 'v', 'w', 'x', 'y', 'z', \"'\"]}, 'optim': {'name': 'novograd', 'lr': 0.01, 'betas': [0.8, 0.5], 'weight_decay': 0.001, 'sched': {'name': 'CosineAnnealing', 'monitor': 'val_loss', 'reduce_on_plateau': False, 'warmup_steps': None, 'warmup_ratio': None, 'min_lr': 0.0, 'last_epoch': -1}}}, 'trainer': {'gpus': 0, 'max_epochs': 5, 'max_steps': None, 'num_nodes': 1, 'accelerator': 'ddp', 'accumulate_grad_batches': 1, 'checkpoint_callback': False, 'logger': False, 'log_every_n_steps': 1, 'val_check_interval': 1.0}, 'exp_manager': {'exp_dir': None, 'name': 'QuartzNet15x5', 'create_tensorboard_logger': True, 'create_checkpoint_callback': True}, 'hydra': {'run': {'dir': '.'}, 'job_logging': {'root': {'handlers': None}}}}\n"
     ]
    }
   ],
   "source": [
    "# --- Config Information ---#\n",
    "try:\n",
    "    from ruamel.yaml import YAML\n",
    "except ModuleNotFoundError:\n",
    "    from ruamel_yaml import YAML\n",
    "config_path = './configs/config.yaml'\n",
    "\n",
    "yaml = YAML(typ='safe')\n",
    "with open(config_path) as f:\n",
    "    params = yaml.load(f)\n",
    "print(params)"
   ]
  },
  {
   "cell_type": "markdown",
   "metadata": {
    "id": "wUmq3p2Aw_5N"
   },
   "source": [
    "### Training with PyTorch Lightning\n",
    "\n",
    "NeMo models and modules can be used in any PyTorch code where torch.nn.Module is expected.\n",
    "\n",
    "However, NeMo's models are based on [PytorchLightning's](https://github.com/PyTorchLightning/pytorch-lightning) LightningModule and we recommend you use PytorchLightning for training and fine-tuning as it makes using mixed precision and distributed training very easy. So to start, let's create Trainer instance for training on GPU for 50 epochs"
   ]
  },
  {
   "cell_type": "code",
   "execution_count": 13,
   "metadata": {
    "id": "GUfR6tAK0k2u"
   },
   "outputs": [
    {
     "name": "stderr",
     "output_type": "stream",
     "text": [
      "GPU available: True, used: True\n",
      "TPU available: False, using: 0 TPU cores\n",
      "IPU available: False, using: 0 IPUs\n"
     ]
    }
   ],
   "source": [
    "import pytorch_lightning as pl\n",
    "trainer = pl.Trainer(gpus=1, max_epochs=50)"
   ]
  },
  {
   "cell_type": "markdown",
   "metadata": {
    "id": "IEn2RyvgxxvO"
   },
   "source": [
    "Next, we instantiate and ASR model based on our ``config.yaml`` file from the previous section.\n",
    "Note that this is a stage during which we also tell the model where our training and validation manifests are."
   ]
  },
  {
   "cell_type": "code",
   "execution_count": 14,
   "metadata": {
    "id": "Cbf0fsMK09lk"
   },
   "outputs": [
    {
     "name": "stdout",
     "output_type": "stream",
     "text": [
      "[NeMo I 2021-11-23 02:39:35 audio_to_text_dataset:36] Model level config does not container `sample_rate`, please explicitly provide `sample_rate` to the dataloaders.\n",
      "[NeMo I 2021-11-23 02:39:35 audio_to_text_dataset:36] Model level config does not container `labels`, please explicitly provide `labels` to the dataloaders.\n",
      "[NeMo I 2021-11-23 02:39:35 collections:173] Dataset loaded with 948 files totalling 0.71 hours\n",
      "[NeMo I 2021-11-23 02:39:35 collections:174] 0 files were filtered totalling 0.00 hours\n",
      "[NeMo I 2021-11-23 02:39:35 audio_to_text_dataset:36] Model level config does not container `sample_rate`, please explicitly provide `sample_rate` to the dataloaders.\n",
      "[NeMo I 2021-11-23 02:39:35 audio_to_text_dataset:36] Model level config does not container `labels`, please explicitly provide `labels` to the dataloaders.\n",
      "[NeMo I 2021-11-23 02:39:35 collections:173] Dataset loaded with 130 files totalling 0.10 hours\n",
      "[NeMo I 2021-11-23 02:39:35 collections:174] 0 files were filtered totalling 0.00 hours\n",
      "[NeMo I 2021-11-23 02:39:35 features:262] PADDING: 16\n",
      "[NeMo I 2021-11-23 02:39:35 features:279] STFT using torch\n"
     ]
    }
   ],
   "source": [
    "from omegaconf import DictConfig\n",
    "params['model']['train_ds']['manifest_filepath'] = train_manifest\n",
    "params['model']['validation_ds']['manifest_filepath'] = test_manifest\n",
    "first_asr_model = nemo_asr.models.EncDecCTCModel(cfg=DictConfig(params['model']), trainer=trainer)"
   ]
  },
  {
   "cell_type": "markdown",
   "metadata": {
    "id": "hWtzwL5qXTYq"
   },
   "source": [
    "With that, we can start training with just one line!"
   ]
  },
  {
   "cell_type": "code",
   "execution_count": 15,
   "metadata": {
    "id": "inRJsnrz1psq"
   },
   "outputs": [
    {
     "name": "stderr",
     "output_type": "stream",
     "text": [
      "LOCAL_RANK: 0 - CUDA_VISIBLE_DEVICES: [0]\n"
     ]
    },
    {
     "name": "stdout",
     "output_type": "stream",
     "text": [
      "[NeMo I 2021-11-23 02:39:35 modelPT:544] Optimizer config = Novograd (\n",
      "    Parameter Group 0\n",
      "        amsgrad: False\n",
      "        betas: [0.8, 0.5]\n",
      "        eps: 1e-08\n",
      "        grad_averaging: False\n",
      "        lr: 0.01\n",
      "        weight_decay: 0.001\n",
      "    )\n",
      "[NeMo I 2021-11-23 02:39:35 lr_scheduler:621] Scheduler \"<nemo.core.optim.lr_scheduler.CosineAnnealing object at 0x7faf181988e0>\" \n",
      "    will be used during training (effective maximum steps = 1500) - \n",
      "    Parameters : \n",
      "    (warmup_steps: null\n",
      "    warmup_ratio: null\n",
      "    min_lr: 0.0\n",
      "    last_epoch: -1\n",
      "    max_steps: 1500\n",
      "    )\n"
     ]
    },
    {
     "name": "stderr",
     "output_type": "stream",
     "text": [
      "\n",
      "  | Name              | Type                              | Params\n",
      "------------------------------------------------------------------------\n",
      "0 | preprocessor      | AudioToMelSpectrogramPreprocessor | 0     \n",
      "1 | encoder           | ConvASREncoder                    | 1.2 M \n",
      "2 | decoder           | ConvASRDecoder                    | 29.7 K\n",
      "3 | loss              | CTCLoss                           | 0     \n",
      "4 | spec_augmentation | SpectrogramAugmentation           | 0     \n",
      "5 | _wer              | WER                               | 0     \n",
      "------------------------------------------------------------------------\n",
      "1.2 M     Trainable params\n",
      "0         Non-trainable params\n",
      "1.2 M     Total params\n",
      "4.836     Total estimated model params size (MB)\n"
     ]
    },
    {
     "data": {
      "application/vnd.jupyter.widget-view+json": {
       "model_id": "",
       "version_major": 2,
       "version_minor": 0
      },
      "text/plain": [
       "Validation sanity check: 0it [00:00, ?it/s]"
      ]
     },
     "metadata": {},
     "output_type": "display_data"
    },
    {
     "name": "stderr",
     "output_type": "stream",
     "text": [
      "[NeMo W 2021-11-23 02:39:35 nemo_logging:349] /opt/conda/lib/python3.8/site-packages/pytorch_lightning/trainer/data_loading.py:105: UserWarning: The dataloader, val dataloader 0, does not have many workers which may be a bottleneck. Consider increasing the value of the `num_workers` argument` (try 8 which is the number of cpus on this machine) in the `DataLoader` init to improve performance.\n",
      "      rank_zero_warn(\n",
      "    \n",
      "[NeMo W 2021-11-23 02:39:35 nemo_logging:349] /opt/conda/lib/python3.8/site-packages/pytorch_lightning/trainer/data_loading.py:105: UserWarning: The dataloader, train dataloader, does not have many workers which may be a bottleneck. Consider increasing the value of the `num_workers` argument` (try 8 which is the number of cpus on this machine) in the `DataLoader` init to improve performance.\n",
      "      rank_zero_warn(\n",
      "    \n",
      "[NeMo W 2021-11-23 02:39:35 nemo_logging:349] /opt/conda/lib/python3.8/site-packages/pytorch_lightning/trainer/data_loading.py:326: UserWarning: The number of training samples (30) is smaller than the logging interval Trainer(log_every_n_steps=50). Set a lower value for log_every_n_steps if you want to see logs for the training epoch.\n",
      "      rank_zero_warn(\n",
      "    \n"
     ]
    },
    {
     "data": {
      "application/vnd.jupyter.widget-view+json": {
       "model_id": "fd009f9e1f8244b8b8880bd19198dbcc",
       "version_major": 2,
       "version_minor": 0
      },
      "text/plain": [
       "Training: -1it [00:00, ?it/s]"
      ]
     },
     "metadata": {},
     "output_type": "display_data"
    },
    {
     "data": {
      "application/vnd.jupyter.widget-view+json": {
       "model_id": "",
       "version_major": 2,
       "version_minor": 0
      },
      "text/plain": [
       "Validating: 0it [00:00, ?it/s]"
      ]
     },
     "metadata": {},
     "output_type": "display_data"
    },
    {
     "data": {
      "application/vnd.jupyter.widget-view+json": {
       "model_id": "",
       "version_major": 2,
       "version_minor": 0
      },
      "text/plain": [
       "Validating: 0it [00:00, ?it/s]"
      ]
     },
     "metadata": {},
     "output_type": "display_data"
    },
    {
     "data": {
      "application/vnd.jupyter.widget-view+json": {
       "model_id": "",
       "version_major": 2,
       "version_minor": 0
      },
      "text/plain": [
       "Validating: 0it [00:00, ?it/s]"
      ]
     },
     "metadata": {},
     "output_type": "display_data"
    },
    {
     "data": {
      "application/vnd.jupyter.widget-view+json": {
       "model_id": "",
       "version_major": 2,
       "version_minor": 0
      },
      "text/plain": [
       "Validating: 0it [00:00, ?it/s]"
      ]
     },
     "metadata": {},
     "output_type": "display_data"
    },
    {
     "data": {
      "application/vnd.jupyter.widget-view+json": {
       "model_id": "",
       "version_major": 2,
       "version_minor": 0
      },
      "text/plain": [
       "Validating: 0it [00:00, ?it/s]"
      ]
     },
     "metadata": {},
     "output_type": "display_data"
    },
    {
     "data": {
      "application/vnd.jupyter.widget-view+json": {
       "model_id": "",
       "version_major": 2,
       "version_minor": 0
      },
      "text/plain": [
       "Validating: 0it [00:00, ?it/s]"
      ]
     },
     "metadata": {},
     "output_type": "display_data"
    },
    {
     "data": {
      "application/vnd.jupyter.widget-view+json": {
       "model_id": "",
       "version_major": 2,
       "version_minor": 0
      },
      "text/plain": [
       "Validating: 0it [00:00, ?it/s]"
      ]
     },
     "metadata": {},
     "output_type": "display_data"
    },
    {
     "data": {
      "application/vnd.jupyter.widget-view+json": {
       "model_id": "",
       "version_major": 2,
       "version_minor": 0
      },
      "text/plain": [
       "Validating: 0it [00:00, ?it/s]"
      ]
     },
     "metadata": {},
     "output_type": "display_data"
    },
    {
     "data": {
      "application/vnd.jupyter.widget-view+json": {
       "model_id": "",
       "version_major": 2,
       "version_minor": 0
      },
      "text/plain": [
       "Validating: 0it [00:00, ?it/s]"
      ]
     },
     "metadata": {},
     "output_type": "display_data"
    },
    {
     "data": {
      "application/vnd.jupyter.widget-view+json": {
       "model_id": "",
       "version_major": 2,
       "version_minor": 0
      },
      "text/plain": [
       "Validating: 0it [00:00, ?it/s]"
      ]
     },
     "metadata": {},
     "output_type": "display_data"
    },
    {
     "data": {
      "application/vnd.jupyter.widget-view+json": {
       "model_id": "",
       "version_major": 2,
       "version_minor": 0
      },
      "text/plain": [
       "Validating: 0it [00:00, ?it/s]"
      ]
     },
     "metadata": {},
     "output_type": "display_data"
    },
    {
     "data": {
      "application/vnd.jupyter.widget-view+json": {
       "model_id": "",
       "version_major": 2,
       "version_minor": 0
      },
      "text/plain": [
       "Validating: 0it [00:00, ?it/s]"
      ]
     },
     "metadata": {},
     "output_type": "display_data"
    },
    {
     "data": {
      "application/vnd.jupyter.widget-view+json": {
       "model_id": "",
       "version_major": 2,
       "version_minor": 0
      },
      "text/plain": [
       "Validating: 0it [00:00, ?it/s]"
      ]
     },
     "metadata": {},
     "output_type": "display_data"
    },
    {
     "data": {
      "application/vnd.jupyter.widget-view+json": {
       "model_id": "",
       "version_major": 2,
       "version_minor": 0
      },
      "text/plain": [
       "Validating: 0it [00:00, ?it/s]"
      ]
     },
     "metadata": {},
     "output_type": "display_data"
    },
    {
     "data": {
      "application/vnd.jupyter.widget-view+json": {
       "model_id": "",
       "version_major": 2,
       "version_minor": 0
      },
      "text/plain": [
       "Validating: 0it [00:00, ?it/s]"
      ]
     },
     "metadata": {},
     "output_type": "display_data"
    },
    {
     "data": {
      "application/vnd.jupyter.widget-view+json": {
       "model_id": "",
       "version_major": 2,
       "version_minor": 0
      },
      "text/plain": [
       "Validating: 0it [00:00, ?it/s]"
      ]
     },
     "metadata": {},
     "output_type": "display_data"
    },
    {
     "data": {
      "application/vnd.jupyter.widget-view+json": {
       "model_id": "",
       "version_major": 2,
       "version_minor": 0
      },
      "text/plain": [
       "Validating: 0it [00:00, ?it/s]"
      ]
     },
     "metadata": {},
     "output_type": "display_data"
    },
    {
     "data": {
      "application/vnd.jupyter.widget-view+json": {
       "model_id": "",
       "version_major": 2,
       "version_minor": 0
      },
      "text/plain": [
       "Validating: 0it [00:00, ?it/s]"
      ]
     },
     "metadata": {},
     "output_type": "display_data"
    },
    {
     "data": {
      "application/vnd.jupyter.widget-view+json": {
       "model_id": "",
       "version_major": 2,
       "version_minor": 0
      },
      "text/plain": [
       "Validating: 0it [00:00, ?it/s]"
      ]
     },
     "metadata": {},
     "output_type": "display_data"
    },
    {
     "data": {
      "application/vnd.jupyter.widget-view+json": {
       "model_id": "",
       "version_major": 2,
       "version_minor": 0
      },
      "text/plain": [
       "Validating: 0it [00:00, ?it/s]"
      ]
     },
     "metadata": {},
     "output_type": "display_data"
    },
    {
     "data": {
      "application/vnd.jupyter.widget-view+json": {
       "model_id": "",
       "version_major": 2,
       "version_minor": 0
      },
      "text/plain": [
       "Validating: 0it [00:00, ?it/s]"
      ]
     },
     "metadata": {},
     "output_type": "display_data"
    },
    {
     "data": {
      "application/vnd.jupyter.widget-view+json": {
       "model_id": "",
       "version_major": 2,
       "version_minor": 0
      },
      "text/plain": [
       "Validating: 0it [00:00, ?it/s]"
      ]
     },
     "metadata": {},
     "output_type": "display_data"
    },
    {
     "data": {
      "application/vnd.jupyter.widget-view+json": {
       "model_id": "",
       "version_major": 2,
       "version_minor": 0
      },
      "text/plain": [
       "Validating: 0it [00:00, ?it/s]"
      ]
     },
     "metadata": {},
     "output_type": "display_data"
    },
    {
     "data": {
      "application/vnd.jupyter.widget-view+json": {
       "model_id": "",
       "version_major": 2,
       "version_minor": 0
      },
      "text/plain": [
       "Validating: 0it [00:00, ?it/s]"
      ]
     },
     "metadata": {},
     "output_type": "display_data"
    },
    {
     "data": {
      "application/vnd.jupyter.widget-view+json": {
       "model_id": "",
       "version_major": 2,
       "version_minor": 0
      },
      "text/plain": [
       "Validating: 0it [00:00, ?it/s]"
      ]
     },
     "metadata": {},
     "output_type": "display_data"
    },
    {
     "data": {
      "application/vnd.jupyter.widget-view+json": {
       "model_id": "",
       "version_major": 2,
       "version_minor": 0
      },
      "text/plain": [
       "Validating: 0it [00:00, ?it/s]"
      ]
     },
     "metadata": {},
     "output_type": "display_data"
    },
    {
     "data": {
      "application/vnd.jupyter.widget-view+json": {
       "model_id": "",
       "version_major": 2,
       "version_minor": 0
      },
      "text/plain": [
       "Validating: 0it [00:00, ?it/s]"
      ]
     },
     "metadata": {},
     "output_type": "display_data"
    },
    {
     "data": {
      "application/vnd.jupyter.widget-view+json": {
       "model_id": "",
       "version_major": 2,
       "version_minor": 0
      },
      "text/plain": [
       "Validating: 0it [00:00, ?it/s]"
      ]
     },
     "metadata": {},
     "output_type": "display_data"
    },
    {
     "data": {
      "application/vnd.jupyter.widget-view+json": {
       "model_id": "",
       "version_major": 2,
       "version_minor": 0
      },
      "text/plain": [
       "Validating: 0it [00:00, ?it/s]"
      ]
     },
     "metadata": {},
     "output_type": "display_data"
    },
    {
     "data": {
      "application/vnd.jupyter.widget-view+json": {
       "model_id": "",
       "version_major": 2,
       "version_minor": 0
      },
      "text/plain": [
       "Validating: 0it [00:00, ?it/s]"
      ]
     },
     "metadata": {},
     "output_type": "display_data"
    },
    {
     "data": {
      "application/vnd.jupyter.widget-view+json": {
       "model_id": "",
       "version_major": 2,
       "version_minor": 0
      },
      "text/plain": [
       "Validating: 0it [00:00, ?it/s]"
      ]
     },
     "metadata": {},
     "output_type": "display_data"
    },
    {
     "data": {
      "application/vnd.jupyter.widget-view+json": {
       "model_id": "",
       "version_major": 2,
       "version_minor": 0
      },
      "text/plain": [
       "Validating: 0it [00:00, ?it/s]"
      ]
     },
     "metadata": {},
     "output_type": "display_data"
    },
    {
     "data": {
      "application/vnd.jupyter.widget-view+json": {
       "model_id": "",
       "version_major": 2,
       "version_minor": 0
      },
      "text/plain": [
       "Validating: 0it [00:00, ?it/s]"
      ]
     },
     "metadata": {},
     "output_type": "display_data"
    },
    {
     "data": {
      "application/vnd.jupyter.widget-view+json": {
       "model_id": "",
       "version_major": 2,
       "version_minor": 0
      },
      "text/plain": [
       "Validating: 0it [00:00, ?it/s]"
      ]
     },
     "metadata": {},
     "output_type": "display_data"
    },
    {
     "data": {
      "application/vnd.jupyter.widget-view+json": {
       "model_id": "",
       "version_major": 2,
       "version_minor": 0
      },
      "text/plain": [
       "Validating: 0it [00:00, ?it/s]"
      ]
     },
     "metadata": {},
     "output_type": "display_data"
    },
    {
     "data": {
      "application/vnd.jupyter.widget-view+json": {
       "model_id": "",
       "version_major": 2,
       "version_minor": 0
      },
      "text/plain": [
       "Validating: 0it [00:00, ?it/s]"
      ]
     },
     "metadata": {},
     "output_type": "display_data"
    },
    {
     "data": {
      "application/vnd.jupyter.widget-view+json": {
       "model_id": "",
       "version_major": 2,
       "version_minor": 0
      },
      "text/plain": [
       "Validating: 0it [00:00, ?it/s]"
      ]
     },
     "metadata": {},
     "output_type": "display_data"
    },
    {
     "data": {
      "application/vnd.jupyter.widget-view+json": {
       "model_id": "",
       "version_major": 2,
       "version_minor": 0
      },
      "text/plain": [
       "Validating: 0it [00:00, ?it/s]"
      ]
     },
     "metadata": {},
     "output_type": "display_data"
    },
    {
     "data": {
      "application/vnd.jupyter.widget-view+json": {
       "model_id": "",
       "version_major": 2,
       "version_minor": 0
      },
      "text/plain": [
       "Validating: 0it [00:00, ?it/s]"
      ]
     },
     "metadata": {},
     "output_type": "display_data"
    },
    {
     "data": {
      "application/vnd.jupyter.widget-view+json": {
       "model_id": "",
       "version_major": 2,
       "version_minor": 0
      },
      "text/plain": [
       "Validating: 0it [00:00, ?it/s]"
      ]
     },
     "metadata": {},
     "output_type": "display_data"
    },
    {
     "data": {
      "application/vnd.jupyter.widget-view+json": {
       "model_id": "",
       "version_major": 2,
       "version_minor": 0
      },
      "text/plain": [
       "Validating: 0it [00:00, ?it/s]"
      ]
     },
     "metadata": {},
     "output_type": "display_data"
    },
    {
     "data": {
      "application/vnd.jupyter.widget-view+json": {
       "model_id": "",
       "version_major": 2,
       "version_minor": 0
      },
      "text/plain": [
       "Validating: 0it [00:00, ?it/s]"
      ]
     },
     "metadata": {},
     "output_type": "display_data"
    },
    {
     "data": {
      "application/vnd.jupyter.widget-view+json": {
       "model_id": "",
       "version_major": 2,
       "version_minor": 0
      },
      "text/plain": [
       "Validating: 0it [00:00, ?it/s]"
      ]
     },
     "metadata": {},
     "output_type": "display_data"
    },
    {
     "data": {
      "application/vnd.jupyter.widget-view+json": {
       "model_id": "",
       "version_major": 2,
       "version_minor": 0
      },
      "text/plain": [
       "Validating: 0it [00:00, ?it/s]"
      ]
     },
     "metadata": {},
     "output_type": "display_data"
    },
    {
     "data": {
      "application/vnd.jupyter.widget-view+json": {
       "model_id": "",
       "version_major": 2,
       "version_minor": 0
      },
      "text/plain": [
       "Validating: 0it [00:00, ?it/s]"
      ]
     },
     "metadata": {},
     "output_type": "display_data"
    },
    {
     "data": {
      "application/vnd.jupyter.widget-view+json": {
       "model_id": "",
       "version_major": 2,
       "version_minor": 0
      },
      "text/plain": [
       "Validating: 0it [00:00, ?it/s]"
      ]
     },
     "metadata": {},
     "output_type": "display_data"
    },
    {
     "data": {
      "application/vnd.jupyter.widget-view+json": {
       "model_id": "",
       "version_major": 2,
       "version_minor": 0
      },
      "text/plain": [
       "Validating: 0it [00:00, ?it/s]"
      ]
     },
     "metadata": {},
     "output_type": "display_data"
    },
    {
     "data": {
      "application/vnd.jupyter.widget-view+json": {
       "model_id": "",
       "version_major": 2,
       "version_minor": 0
      },
      "text/plain": [
       "Validating: 0it [00:00, ?it/s]"
      ]
     },
     "metadata": {},
     "output_type": "display_data"
    },
    {
     "data": {
      "application/vnd.jupyter.widget-view+json": {
       "model_id": "",
       "version_major": 2,
       "version_minor": 0
      },
      "text/plain": [
       "Validating: 0it [00:00, ?it/s]"
      ]
     },
     "metadata": {},
     "output_type": "display_data"
    },
    {
     "data": {
      "application/vnd.jupyter.widget-view+json": {
       "model_id": "",
       "version_major": 2,
       "version_minor": 0
      },
      "text/plain": [
       "Validating: 0it [00:00, ?it/s]"
      ]
     },
     "metadata": {},
     "output_type": "display_data"
    }
   ],
   "source": [
    "# Start training!!!\n",
    "trainer.fit(first_asr_model)"
   ]
  },
  {
   "cell_type": "markdown",
   "metadata": {
    "id": "jpYXX-GslR0E"
   },
   "source": [
    "There we go! We've put together a full training pipeline for the model and trained it for 50 epochs.\n",
    "\n",
    "If you'd like to save this model checkpoint for loading later (e.g. for fine-tuning, or for continuing training), you can simply call `first_asr_model.save_to(<checkpoint_path>)`. Then, to restore your weights, you can rebuild the model using the config (let's say you call it `first_asr_model_continued` this time) and call `first_asr_model_continued.restore_from(<checkpoint_path>)`.\n",
    "\n",
    "### After Training: Monitoring Progress and Changing Hyperparameters\n",
    "We can  now start Tensorboard to see how training went. Recall that WER stands for Word Error Rate and so the lower it is, the better."
   ]
  },
  {
   "cell_type": "code",
   "execution_count": 16,
   "metadata": {
    "id": "n_0y3stSXDX_"
   },
   "outputs": [
    {
     "name": "stdout",
     "output_type": "stream",
     "text": [
      "To use tensorboard, please use this notebook in a Google Colab environment.\n"
     ]
    }
   ],
   "source": [
    "try:\n",
    "  from google import colab\n",
    "  COLAB_ENV = True\n",
    "except (ImportError, ModuleNotFoundError):\n",
    "  COLAB_ENV = False\n",
    "\n",
    "# Load the TensorBoard notebook extension\n",
    "if COLAB_ENV:\n",
    "  %load_ext tensorboard\n",
    "  %tensorboard --logdir lightning_logs/\n",
    "else:\n",
    "  print(\"To use tensorboard, please use this notebook in a Google Colab environment.\")"
   ]
  },
  {
   "cell_type": "code",
   "execution_count": 17,
   "metadata": {},
   "outputs": [
    {
     "data": {
      "text/html": [
       "\n",
       "      <iframe id=\"tensorboard-frame-651149db4b26fed5\" width=\"100%\" height=\"800\" frameborder=\"0\">\n",
       "      </iframe>\n",
       "      <script>\n",
       "        (function() {\n",
       "          const frame = document.getElementById(\"tensorboard-frame-651149db4b26fed5\");\n",
       "          const url = new URL(\"/\", window.location);\n",
       "          const port = 6006;\n",
       "          if (port) {\n",
       "            url.port = port;\n",
       "          }\n",
       "          frame.src = url;\n",
       "        })();\n",
       "      </script>\n",
       "    "
      ],
      "text/plain": [
       "<IPython.core.display.HTML object>"
      ]
     },
     "metadata": {},
     "output_type": "display_data"
    }
   ],
   "source": [
    "%load_ext tensorboard\n",
    "%tensorboard --logdir lightning_logs/"
   ]
  },
  {
   "cell_type": "markdown",
   "metadata": {
    "id": "Z0h-BME7U8yb"
   },
   "source": [
    "We could improve this model by playing with hyperparameters. We can look at the current hyperparameters with the following:"
   ]
  },
  {
   "cell_type": "code",
   "execution_count": 18,
   "metadata": {
    "id": "7kdQbpohXnEd"
   },
   "outputs": [
    {
     "name": "stdout",
     "output_type": "stream",
     "text": [
      "{'name': 'novograd', 'lr': 0.01, 'betas': [0.8, 0.5], 'weight_decay': 0.001, 'sched': {'name': 'CosineAnnealing', 'monitor': 'val_loss', 'reduce_on_plateau': False, 'warmup_steps': None, 'warmup_ratio': None, 'min_lr': 0.0, 'last_epoch': -1}}\n"
     ]
    }
   ],
   "source": [
    "print(params['model']['optim'])"
   ]
  },
  {
   "cell_type": "markdown",
   "metadata": {
    "id": "sGZzRCvIW8kE"
   },
   "source": [
    "Let's say we wanted to change the learning rate. To do so, we can create a `new_opt` dict and set our desired learning rate, then call `<model>.setup_optimization()` with the new optimization parameters."
   ]
  },
  {
   "cell_type": "code",
   "execution_count": 19,
   "metadata": {
    "id": "AbigFKUtYgvn"
   },
   "outputs": [
    {
     "name": "stdout",
     "output_type": "stream",
     "text": [
      "[NeMo I 2021-11-23 02:42:50 modelPT:544] Optimizer config = Novograd (\n",
      "    Parameter Group 0\n",
      "        amsgrad: False\n",
      "        betas: [0.8, 0.5]\n",
      "        eps: 1e-08\n",
      "        grad_averaging: False\n",
      "        lr: 0.001\n",
      "        weight_decay: 0.001\n",
      "    )\n",
      "[NeMo I 2021-11-23 02:42:50 lr_scheduler:621] Scheduler \"<nemo.core.optim.lr_scheduler.CosineAnnealing object at 0x7faf10483580>\" \n",
      "    will be used during training (effective maximum steps = 1500) - \n",
      "    Parameters : \n",
      "    (warmup_steps: null\n",
      "    warmup_ratio: null\n",
      "    min_lr: 0.0\n",
      "    last_epoch: -1\n",
      "    max_steps: 1500\n",
      "    )\n"
     ]
    },
    {
     "data": {
      "text/plain": [
       "(Novograd (\n",
       " Parameter Group 0\n",
       "     amsgrad: False\n",
       "     betas: [0.8, 0.5]\n",
       "     eps: 1e-08\n",
       "     grad_averaging: False\n",
       "     initial_lr: 0.001\n",
       "     lr: 0.001\n",
       "     weight_decay: 0.001\n",
       " ),\n",
       " {'scheduler': <nemo.core.optim.lr_scheduler.CosineAnnealing at 0x7faf10483580>,\n",
       "  'interval': 'step',\n",
       "  'frequency': 1,\n",
       "  'monitor': 'val_loss',\n",
       "  'reduce_on_plateau': False})"
      ]
     },
     "execution_count": 19,
     "metadata": {},
     "output_type": "execute_result"
    }
   ],
   "source": [
    "import copy\n",
    "new_opt = copy.deepcopy(params['model']['optim'])\n",
    "new_opt['lr'] = 0.001\n",
    "first_asr_model.setup_optimization(optim_config=DictConfig(new_opt))\n",
    "# And then you can invoke trainer.fit(first_asr_model)"
   ]
  },
  {
   "cell_type": "markdown",
   "metadata": {
    "id": "D5Kwg8Cz-aaO"
   },
   "source": [
    "## Inference\n",
    "\n",
    "Let's have a quick look at how one could run inference with NeMo's ASR model.\n",
    "\n",
    "First, ``EncDecCTCModel`` and its subclasses contain a handy ``transcribe`` method which can be used to simply obtain audio files' transcriptions. It also has batch_size argument to improve performance."
   ]
  },
  {
   "cell_type": "code",
   "execution_count": 20,
   "metadata": {
    "id": "3FT0klSV268p"
   },
   "outputs": [
    {
     "data": {
      "application/vnd.jupyter.widget-view+json": {
       "model_id": "95d1c61fa6ed412ba954628bde1d53ee",
       "version_major": 2,
       "version_minor": 0
      },
      "text/plain": [
       "Transcribing:   0%|          | 0/1 [00:00<?, ?it/s]"
      ]
     },
     "metadata": {},
     "output_type": "display_data"
    },
    {
     "name": "stdout",
     "output_type": "stream",
     "text": [
      "[' n', ' two to ne si i', ' for ixy so', '  fi six se']\n"
     ]
    }
   ],
   "source": [
    "print(first_asr_model.transcribe(paths2audio_files=['./an4/wav/an4_clstk/mgah/cen2-mgah-b.wav',\n",
    "                                                    './an4/wav/an4_clstk/fmjd/cen7-fmjd-b.wav',\n",
    "                                                    './an4/wav/an4_clstk/fmjd/cen8-fmjd-b.wav',\n",
    "                                                    './an4/wav/an4_clstk/fkai/cen8-fkai-b.wav'],\n",
    "                                 batch_size=4))"
   ]
  },
  {
   "cell_type": "markdown",
   "metadata": {
    "id": "6FiCfLX0D7py"
   },
   "source": [
    "Below is an example of a simple inference loop in pure PyTorch. It also shows how one can compute Word Error Rate (WER) metric between predictions and references."
   ]
  },
  {
   "cell_type": "code",
   "execution_count": 21,
   "metadata": {
    "id": "7mP4r1Gx_Ilt"
   },
   "outputs": [
    {
     "name": "stdout",
     "output_type": "stream",
     "text": [
      "[NeMo I 2021-11-23 02:42:50 audio_to_text_dataset:36] Model level config does not container `sample_rate`, please explicitly provide `sample_rate` to the dataloaders.\n",
      "[NeMo I 2021-11-23 02:42:50 audio_to_text_dataset:36] Model level config does not container `labels`, please explicitly provide `labels` to the dataloaders.\n",
      "[NeMo I 2021-11-23 02:42:50 collections:173] Dataset loaded with 130 files totalling 0.10 hours\n",
      "[NeMo I 2021-11-23 02:42:50 collections:174] 0 files were filtered totalling 0.00 hours\n",
      "WER = 0.9456662354463131\n"
     ]
    }
   ],
   "source": [
    "# Bigger batch-size = bigger throughput\n",
    "params['model']['validation_ds']['batch_size'] = 16\n",
    "\n",
    "# Setup the test data loader and make sure the model is on GPU\n",
    "first_asr_model.setup_test_data(test_data_config=params['model']['validation_ds'])\n",
    "first_asr_model.cuda()\n",
    "\n",
    "# We will be computing Word Error Rate (WER) metric between our hypothesis and predictions.\n",
    "# WER is computed as numerator/denominator.\n",
    "# We'll gather all the test batches' numerators and denominators.\n",
    "wer_nums = []\n",
    "wer_denoms = []\n",
    "\n",
    "# Loop over all test batches.\n",
    "# Iterating over the model's `test_dataloader` will give us:\n",
    "# (audio_signal, audio_signal_length, transcript_tokens, transcript_length)\n",
    "# See the AudioToCharDataset for more details.\n",
    "for test_batch in first_asr_model.test_dataloader():\n",
    "        test_batch = [x.cuda() for x in test_batch]\n",
    "        targets = test_batch[2]\n",
    "        targets_lengths = test_batch[3]        \n",
    "        log_probs, encoded_len, greedy_predictions = first_asr_model(\n",
    "            input_signal=test_batch[0], input_signal_length=test_batch[1]\n",
    "        )\n",
    "        # Notice the model has a helper object to compute WER\n",
    "        first_asr_model._wer.update(greedy_predictions, targets, targets_lengths)\n",
    "        _, wer_num, wer_denom = first_asr_model._wer.compute()\n",
    "        first_asr_model._wer.reset()\n",
    "        wer_nums.append(wer_num.detach().cpu().numpy())\n",
    "        wer_denoms.append(wer_denom.detach().cpu().numpy())\n",
    "\n",
    "        # Release tensors from GPU memory\n",
    "        del test_batch, log_probs, targets, targets_lengths, encoded_len, greedy_predictions\n",
    "\n",
    "# We need to sum all numerators and denominators first. Then divide.\n",
    "print(f\"WER = {sum(wer_nums)/sum(wer_denoms)}\")"
   ]
  },
  {
   "cell_type": "markdown",
   "metadata": {
    "id": "0kM9kBNOCptf"
   },
   "source": [
    "This WER is not particularly impressive and could be significantly improved. You could train longer (try 100 epochs) to get a better number. Check out the next section on how to improve it further."
   ]
  },
  {
   "cell_type": "markdown",
   "metadata": {
    "id": "RBcJtg5ulR0H"
   },
   "source": [
    "## Model Improvements\n",
    "\n",
    "You already have all you need to create your own ASR model in NeMo, but there are a few more tricks that you can employ if you so desire. In this section, we'll briefly cover a few possibilities for improving an ASR model.\n",
    "\n",
    "### Data Augmentation\n",
    "\n",
    "There exist several ASR data augmentation methods that can increase the size of our training set.\n",
    "\n",
    "For example, we can perform augmentation on the spectrograms by zeroing out specific frequency segments (\"frequency masking\") or time segments (\"time masking\") as described by [SpecAugment](https://arxiv.org/abs/1904.08779), or zero out rectangles on the spectrogram as in [Cutout](https://arxiv.org/pdf/1708.04552.pdf). In NeMo, we can do all three of these by simply adding in a `SpectrogramAugmentation` neural module. (As of now, it does not perform the time warping from the SpecAugment paper.)\n",
    "\n",
    "Our toy model does not do spectrogram augmentation. But the real one we got from cloud does:"
   ]
  },
  {
   "cell_type": "code",
   "execution_count": 22,
   "metadata": {
    "id": "9glGogaPlR0H"
   },
   "outputs": [
    {
     "name": "stdout",
     "output_type": "stream",
     "text": [
      "{'_target_': 'nemo.collections.asr.modules.SpectrogramAugmentation', 'rect_freq': 50, 'rect_masks': 5, 'rect_time': 120}\n"
     ]
    }
   ],
   "source": [
    "print(quartznet._cfg['spec_augment'])"
   ]
  },
  {
   "cell_type": "markdown",
   "metadata": {
    "id": "LdwdcA_a640R"
   },
   "source": [
    "If you want to enable SpecAugment in your model, make sure your .yaml config file contains 'model/spec_augment' section which looks like the one above."
   ]
  },
  {
   "cell_type": "markdown",
   "metadata": {
    "id": "2f142kIQc1Z2"
   },
   "source": [
    "### Transfer learning\n",
    "\n",
    "Transfer learning is an important machine learning technique that uses a model’s knowledge of one task to make it perform better on another. Fine-tuning is one of the techniques to perform transfer learning. It is an essential part of the recipe for many state-of-the-art results where a base model is first pretrained on a task with abundant training data and then fine-tuned on different tasks of interest where the training data is less abundant or even scarce.\n",
    "\n",
    "In ASR you might want to do fine-tuning in multiple scenarios, for example, when you want to improve your model's performance on a particular domain (medical, financial, etc.) or on accented speech. You can even transfer learn from one language to another! Check out [this paper](https://arxiv.org/abs/2005.04290) for examples.\n",
    "\n",
    "Transfer learning with NeMo is simple. Let's demonstrate how the model we got from the cloud could be fine-tuned on AN4 data. (NOTE: this is a toy example). And, while we are at it, we will change model's vocabulary, just to demonstrate how it's done."
   ]
  },
  {
   "cell_type": "code",
   "execution_count": 23,
   "metadata": {
    "id": "hl320dsydWX0"
   },
   "outputs": [
    {
     "name": "stdout",
     "output_type": "stream",
     "text": [
      "[' ', 'a', 'b', 'c', 'd', 'e', 'f', 'g', 'h', 'i', 'j', 'k', 'l', 'm', 'n', 'o', 'p', 'q', 'r', 's', 't', 'u', 'v', 'w', 'x', 'y', 'z', \"'\"]\n",
      "[NeMo I 2021-11-23 02:42:51 ctc_models:347] Changed decoder to output to [' ', 'a', 'b', 'c', 'd', 'e', 'f', 'g', 'h', 'i', 'j', 'k', 'l', 'm', 'n', 'o', 'p', 'q', 'r', 's', 't', 'u', 'v', 'w', 'x', 'y', 'z', \"'\", '!'] vocabulary.\n"
     ]
    }
   ],
   "source": [
    "# Check what kind of vocabulary/alphabet the model has right now\n",
    "print(quartznet.decoder.vocabulary)\n",
    "\n",
    "# Let's add \"!\" symbol there. Note that you can (and should!) change the vocabulary\n",
    "# entirely when fine-tuning using a different language.\n",
    "quartznet.change_vocabulary(\n",
    "    new_vocabulary=[\n",
    "        ' ', 'a', 'b', 'c', 'd', 'e', 'f', 'g', 'h', 'i', 'j', 'k', 'l', 'm', 'n',\n",
    "        'o', 'p', 'q', 'r', 's', 't', 'u', 'v', 'w', 'x', 'y', 'z', \"'\", \"!\"\n",
    "    ]\n",
    ")"
   ]
  },
  {
   "cell_type": "markdown",
   "metadata": {
    "id": "M7lvmiMSd3Aw"
   },
   "source": [
    "After this, our decoder has completely changed, but our encoder (which is where most of the weights are) remained intact. Let's fine tune-this model for 2 epochs on AN4 dataset. We will also use the smaller learning rate from ``new_opt` (see the \"After Training\" section)`."
   ]
  },
  {
   "cell_type": "code",
   "execution_count": 24,
   "metadata": {
    "id": "_PZJIso-eDl-"
   },
   "outputs": [
    {
     "name": "stderr",
     "output_type": "stream",
     "text": [
      "[NeMo W 2021-11-23 02:42:51 modelPT:436] Trainer wasn't specified in model constructor. Make sure that you really wanted it.\n"
     ]
    },
    {
     "name": "stdout",
     "output_type": "stream",
     "text": [
      "[NeMo I 2021-11-23 02:42:51 modelPT:544] Optimizer config = Novograd (\n",
      "    Parameter Group 0\n",
      "        amsgrad: False\n",
      "        betas: [0.8, 0.5]\n",
      "        eps: 1e-08\n",
      "        grad_averaging: False\n",
      "        lr: 0.001\n",
      "        weight_decay: 0.001\n",
      "    )\n"
     ]
    },
    {
     "name": "stderr",
     "output_type": "stream",
     "text": [
      "[NeMo W 2021-11-23 02:42:51 lr_scheduler:604] Neither `max_steps` nor `iters_per_batch` were provided to `optim.sched`, cannot compute effective `max_steps` !\n",
      "    Scheduler will not be instantiated !\n"
     ]
    },
    {
     "name": "stdout",
     "output_type": "stream",
     "text": [
      "[NeMo I 2021-11-23 02:42:51 audio_to_text_dataset:36] Model level config does not container `sample_rate`, please explicitly provide `sample_rate` to the dataloaders.\n",
      "[NeMo I 2021-11-23 02:42:51 audio_to_text_dataset:36] Model level config does not container `labels`, please explicitly provide `labels` to the dataloaders.\n",
      "[NeMo I 2021-11-23 02:42:51 collections:173] Dataset loaded with 948 files totalling 0.71 hours\n",
      "[NeMo I 2021-11-23 02:42:51 collections:174] 0 files were filtered totalling 0.00 hours\n",
      "[NeMo I 2021-11-23 02:42:51 audio_to_text_dataset:36] Model level config does not container `sample_rate`, please explicitly provide `sample_rate` to the dataloaders.\n",
      "[NeMo I 2021-11-23 02:42:51 audio_to_text_dataset:36] Model level config does not container `labels`, please explicitly provide `labels` to the dataloaders.\n",
      "[NeMo I 2021-11-23 02:42:51 collections:173] Dataset loaded with 130 files totalling 0.10 hours\n",
      "[NeMo I 2021-11-23 02:42:51 collections:174] 0 files were filtered totalling 0.00 hours\n"
     ]
    },
    {
     "name": "stderr",
     "output_type": "stream",
     "text": [
      "GPU available: True, used: True\n",
      "TPU available: False, using: 0 TPU cores\n",
      "IPU available: False, using: 0 IPUs\n",
      "LOCAL_RANK: 0 - CUDA_VISIBLE_DEVICES: [0]\n",
      "[NeMo W 2021-11-23 02:42:51 modelPT:436] Trainer wasn't specified in model constructor. Make sure that you really wanted it.\n"
     ]
    },
    {
     "name": "stdout",
     "output_type": "stream",
     "text": [
      "[NeMo I 2021-11-23 02:42:51 modelPT:544] Optimizer config = Novograd (\n",
      "    Parameter Group 0\n",
      "        amsgrad: False\n",
      "        betas: [0.8, 0.5]\n",
      "        eps: 1e-08\n",
      "        grad_averaging: False\n",
      "        lr: 0.001\n",
      "        weight_decay: 0.001\n",
      "    )\n"
     ]
    },
    {
     "name": "stderr",
     "output_type": "stream",
     "text": [
      "[NeMo W 2021-11-23 02:42:51 lr_scheduler:604] Neither `max_steps` nor `iters_per_batch` were provided to `optim.sched`, cannot compute effective `max_steps` !\n",
      "    Scheduler will not be instantiated !\n",
      "\n",
      "  | Name              | Type                              | Params\n",
      "------------------------------------------------------------------------\n",
      "0 | preprocessor      | AudioToMelSpectrogramPreprocessor | 0     \n",
      "1 | encoder           | ConvASREncoder                    | 18.9 M\n",
      "2 | spec_augmentation | SpectrogramAugmentation           | 0     \n",
      "3 | _wer              | WER                               | 0     \n",
      "4 | decoder           | ConvASRDecoder                    | 30.8 K\n",
      "5 | loss              | CTCLoss                           | 0     \n",
      "------------------------------------------------------------------------\n",
      "18.9 M    Trainable params\n",
      "0         Non-trainable params\n",
      "18.9 M    Total params\n",
      "75.702    Total estimated model params size (MB)\n"
     ]
    },
    {
     "data": {
      "application/vnd.jupyter.widget-view+json": {
       "model_id": "",
       "version_major": 2,
       "version_minor": 0
      },
      "text/plain": [
       "Validation sanity check: 0it [00:00, ?it/s]"
      ]
     },
     "metadata": {},
     "output_type": "display_data"
    },
    {
     "name": "stderr",
     "output_type": "stream",
     "text": [
      "[NeMo W 2021-11-23 02:42:51 nemo_logging:349] /opt/conda/lib/python3.8/site-packages/pytorch_lightning/trainer/data_loading.py:105: UserWarning: The dataloader, val dataloader 0, does not have many workers which may be a bottleneck. Consider increasing the value of the `num_workers` argument` (try 8 which is the number of cpus on this machine) in the `DataLoader` init to improve performance.\n",
      "      rank_zero_warn(\n",
      "    \n",
      "[NeMo W 2021-11-23 02:42:51 nemo_logging:349] /opt/conda/lib/python3.8/site-packages/pytorch_lightning/trainer/data_loading.py:105: UserWarning: The dataloader, train dataloader, does not have many workers which may be a bottleneck. Consider increasing the value of the `num_workers` argument` (try 8 which is the number of cpus on this machine) in the `DataLoader` init to improve performance.\n",
      "      rank_zero_warn(\n",
      "    \n",
      "[NeMo W 2021-11-23 02:42:51 nemo_logging:349] /opt/conda/lib/python3.8/site-packages/pytorch_lightning/trainer/data_loading.py:326: UserWarning: The number of training samples (30) is smaller than the logging interval Trainer(log_every_n_steps=50). Set a lower value for log_every_n_steps if you want to see logs for the training epoch.\n",
      "      rank_zero_warn(\n",
      "    \n"
     ]
    },
    {
     "data": {
      "application/vnd.jupyter.widget-view+json": {
       "model_id": "d3979d61b23d4d0db67c3cabdd374780",
       "version_major": 2,
       "version_minor": 0
      },
      "text/plain": [
       "Training: -1it [00:00, ?it/s]"
      ]
     },
     "metadata": {},
     "output_type": "display_data"
    },
    {
     "data": {
      "application/vnd.jupyter.widget-view+json": {
       "model_id": "",
       "version_major": 2,
       "version_minor": 0
      },
      "text/plain": [
       "Validating: 0it [00:00, ?it/s]"
      ]
     },
     "metadata": {},
     "output_type": "display_data"
    },
    {
     "data": {
      "application/vnd.jupyter.widget-view+json": {
       "model_id": "",
       "version_major": 2,
       "version_minor": 0
      },
      "text/plain": [
       "Validating: 0it [00:00, ?it/s]"
      ]
     },
     "metadata": {},
     "output_type": "display_data"
    }
   ],
   "source": [
    "# Use the smaller learning rate we set before\n",
    "quartznet.setup_optimization(optim_config=DictConfig(new_opt))\n",
    "\n",
    "# Point to the data we'll use for fine-tuning as the training set\n",
    "quartznet.setup_training_data(train_data_config=params['model']['train_ds'])\n",
    "\n",
    "# Point to the new validation data for fine-tuning\n",
    "quartznet.setup_validation_data(val_data_config=params['model']['validation_ds'])\n",
    "\n",
    "# And now we can create a PyTorch Lightning trainer and call `fit` again.\n",
    "trainer = pl.Trainer(gpus=[0], max_epochs=2)\n",
    "trainer.fit(quartznet)"
   ]
  },
  {
   "cell_type": "markdown",
   "metadata": {
    "id": "VURa1NavlR0U"
   },
   "source": [
    "### Fast Training\n",
    "\n",
    "Last but not least, we could simply speed up training our model! If you have the resources, you can speed up training by splitting the workload across multiple GPUs. Otherwise (or in addition), there's always mixed precision training, which allows you to increase your batch size.\n",
    "\n",
    "You can use [PyTorch Lightning's Trainer object](https://pytorch-lightning.readthedocs.io/en/latest/common/trainer.html?highlight=Trainer) to handle mixed-precision and distributed training for you. Below are some examples of flags you would pass to the `Trainer` to use these features:\n",
    "\n",
    "```python\n",
    "# Mixed precision:\n",
    "trainer = pl.Trainer(amp_level='O1', precision=16)\n",
    "\n",
    "# Trainer with a distributed backend:\n",
    "trainer = pl.Trainer(gpus=2, num_nodes=2, accelerator='ddp')\n",
    "\n",
    "# Of course, you can combine these flags as well.\n",
    "```\n",
    "\n",
    "Finally, have a look at [example scripts in NeMo repository](https://github.com/NVIDIA/NeMo/blob/stable/examples/asr/speech_to_text.py) which can handle mixed precision and distributed training using command-line arguments."
   ]
  },
  {
   "cell_type": "markdown",
   "metadata": {
    "id": "d1ym8QT3jQnj"
   },
   "source": [
    "### Deployment\n",
    "\n",
    "Note: It is recommended to run the deployment code from the NVIDIA PyTorch container.\n",
    "\n",
    "Let's get back to our pre-trained model and see how easy it can be exported to an ONNX file\n",
    "in order to run it in an inference engine like TensorRT or ONNXRuntime.\n",
    "\n",
    "If you are running in an environment outside of the NVIDIA PyTorch container (like Google Colab for example) then you will have to build the onnxruntime and onnxruntime-gpu. The cell below gives an example of how to build those runtimes but the example may have to be adapted depending on your environment."
   ]
  },
  {
   "cell_type": "code",
   "execution_count": 25,
   "metadata": {
    "id": "I4WRcmakjQnj"
   },
   "outputs": [],
   "source": [
    "# !pip install --upgrade onnxruntime # for gpu, use onnxruntime-gpu\n",
    "# #!mkdir -p ort\n",
    "# #%cd ort\n",
    "# #!git clean -xfd\n",
    "# #!git clone --depth 1 --branch v1.8.0 https://github.com/microsoft/onnxruntime.git .\n",
    "# #!./build.sh --skip_tests --config Release --build_shared_lib --parallel --use_cuda --cuda_home /usr/local/cuda --cudnn_home /usr/lib/#x86_64-linux-gnu --build_wheel\n",
    "# #!pip uninstall -y onnxruntime\n",
    "# #!pip uninstall -y onnxruntime-gpu\n",
    "# #!pip install  --upgrade --force-reinstall ./build/Linux/Release/dist/onnxruntime*.whl\n",
    "# #%cd .."
   ]
  },
  {
   "cell_type": "markdown",
   "metadata": {
    "id": "F9yO1BEbjQnm"
   },
   "source": [
    "Then run"
   ]
  },
  {
   "cell_type": "code",
   "execution_count": 26,
   "metadata": {
    "id": "HZnyWxPyjQnm"
   },
   "outputs": [],
   "source": [
    "# import json\n",
    "# import os\n",
    "# import tempfile\n",
    "# import onnxruntime\n",
    "# import torch\n",
    "\n",
    "# import numpy as np\n",
    "# import nemo.collections.asr as nemo_asr\n",
    "# from nemo.collections.asr.data.audio_to_text import AudioToCharDataset\n",
    "# from nemo.collections.asr.metrics.wer import WER\n",
    "\n",
    "# def to_numpy(tensor):\n",
    "#     return tensor.detach().cpu().numpy() if tensor.requires_grad else tensor.cpu().numpy()\n",
    "\n",
    "# def setup_transcribe_dataloader(cfg, vocabulary):\n",
    "#     config = {\n",
    "#         'manifest_filepath': os.path.join(cfg['temp_dir'], 'manifest.json'),\n",
    "#         'sample_rate': 16000,\n",
    "#         'labels': vocabulary,\n",
    "#         'batch_size': min(cfg['batch_size'], len(cfg['paths2audio_files'])),\n",
    "#         'trim_silence': True,\n",
    "#         'shuffle': False,\n",
    "#     }\n",
    "#     dataset = AudioToCharDataset(\n",
    "#         manifest_filepath=config['manifest_filepath'],\n",
    "#         labels=config['labels'],\n",
    "#         sample_rate=config['sample_rate'],\n",
    "#         int_values=config.get('int_values', False),\n",
    "#         augmentor=None,\n",
    "#         max_duration=config.get('max_duration', None),\n",
    "#         min_duration=config.get('min_duration', None),\n",
    "#         max_utts=config.get('max_utts', 0),\n",
    "#         blank_index=config.get('blank_index', -1),\n",
    "#         unk_index=config.get('unk_index', -1),\n",
    "#         normalize=config.get('normalize_transcripts', False),\n",
    "#         trim=config.get('trim_silence', True),\n",
    "#         parser=config.get('parser', 'en'),\n",
    "#     )\n",
    "#     return torch.utils.data.DataLoader(\n",
    "#         dataset=dataset,\n",
    "#         batch_size=config['batch_size'],\n",
    "#         collate_fn=dataset.collate_fn,\n",
    "#         drop_last=config.get('drop_last', False),\n",
    "#         shuffle=False,\n",
    "#         num_workers=config.get('num_workers', 0),\n",
    "#         pin_memory=config.get('pin_memory', False),\n",
    "#     )\n",
    "\n",
    "# quartznet = nemo_asr.models.EncDecCTCModel.from_pretrained(model_name=\"QuartzNet15x5Base-En\")\n",
    "\n",
    "# quartznet.export('qn.onnx')\n",
    "\n",
    "# ort_session = onnxruntime.InferenceSession('qn.onnx')\n",
    "\n",
    "# with tempfile.TemporaryDirectory() as tmpdir:\n",
    "#     with open(os.path.join(tmpdir, 'manifest.json'), 'w') as fp:\n",
    "#         for audio_file in files:\n",
    "#             entry = {'audio_filepath': audio_file, 'duration': 100000, 'text': 'nothing'}\n",
    "#             fp.write(json.dumps(entry) + '\\n')\n",
    "\n",
    "#     config = {'paths2audio_files': files, 'batch_size': 4, 'temp_dir': tmpdir}\n",
    "#     temporary_datalayer = setup_transcribe_dataloader(config, quartznet.decoder.vocabulary)\n",
    "#     for test_batch in temporary_datalayer:\n",
    "#         processed_signal, processed_signal_len = quartznet.preprocessor(\n",
    "#             input_signal=test_batch[0].to(quartznet.device), length=test_batch[1].to(quartznet.device)\n",
    "#         )\n",
    "#         ort_inputs = {ort_session.get_inputs()[0].name: to_numpy(processed_signal),}\n",
    "#         ologits = ort_session.run(None, ort_inputs)\n",
    "#         alogits = np.asarray(ologits)\n",
    "#         logits = torch.from_numpy(alogits[0])\n",
    "#         greedy_predictions = logits.argmax(dim=-1, keepdim=False)\n",
    "#         wer = WER(vocabulary=quartznet.decoder.vocabulary, batch_dim_index=0, use_cer=False, ctc_decode=True)\n",
    "#         hypotheses = wer.ctc_decoder_predictions_tensor(greedy_predictions)\n",
    "#         print(hypotheses)\n",
    "#         break\n"
   ]
  },
  {
   "cell_type": "markdown",
   "metadata": {
    "id": "wteGqroafWg1"
   },
   "source": [
    "## Under the Hood\n",
    "\n",
    "NeMo is open-source and we do all our model development in the open, so you can inspect our code if you wish.\n",
    "\n",
    "In particular, ``nemo_asr.model.EncDecCTCModel`` is an encoder-decoder model which is constructed using several ``Neural Modules`` taken from ``nemo_asr.modules.`` Here is what its forward pass looks like:\n",
    "```python\n",
    "def forward(self, input_signal, input_signal_length):\n",
    "    processed_signal, processed_signal_len = self.preprocessor(\n",
    "        input_signal=input_signal, length=input_signal_length,\n",
    "    )\n",
    "    # Spec augment is not applied during evaluation/testing\n",
    "    if self.spec_augmentation is not None and self.training:\n",
    "        processed_signal = self.spec_augmentation(input_spec=processed_signal)\n",
    "    encoded, encoded_len = self.encoder(audio_signal=processed_signal, length=processed_signal_len)\n",
    "    log_probs = self.decoder(encoder_output=encoded)\n",
    "    greedy_predictions = log_probs.argmax(dim=-1, keepdim=False)\n",
    "    return log_probs, encoded_len, greedy_predictions\n",
    "```\n",
    "Here:\n",
    "\n",
    "* ``self.preprocessor`` is an instance of ``nemo_asr.modules.AudioToMelSpectrogramPreprocessor``, which is a neural module that takes audio signal and converts it into a Mel-Spectrogram\n",
    "* ``self.spec_augmentation`` - is a neural module of type ```nemo_asr.modules.SpectrogramAugmentation``, which implements data augmentation. \n",
    "* ``self.encoder`` - is a convolutional Jasper/QuartzNet-like encoder of type ``nemo_asr.modules.ConvASREncoder``\n",
    "* ``self.decoder`` - is a ``nemo_asr.modules.ConvASRDecoder`` which simply projects into the target alphabet (vocabulary).\n",
    "\n",
    "Also, ``EncDecCTCModel`` uses the audio dataset class ``nemo_asr.data.AudioToCharDataset`` and CTC loss implemented in ``nemo_asr.losses.CTCLoss``.\n",
    "\n",
    "You can use these and other neural modules (or create new ones yourself!) to construct new ASR models."
   ]
  },
  {
   "cell_type": "markdown",
   "metadata": {
    "id": "smzlvbhelR0U"
   },
   "source": [
    "# Further Reading/Watching:\n",
    "\n",
    "That's all for now! If you'd like to learn more about the topics covered in this tutorial, here are some resources that may interest you:\n",
    "- [Stanford Lecture on ASR](https://www.youtube.com/watch?v=3MjIkWxXigM)\n",
    "- [\"An Intuitive Explanation of Connectionist Temporal Classification\"](https://towardsdatascience.com/intuitively-understanding-connectionist-temporal-classification-3797e43a86c)\n",
    "- [Explanation of CTC with Prefix Beam Search](https://medium.com/corti-ai/ctc-networks-and-language-models-prefix-beam-search-explained-c11d1ee23306)\n",
    "- [Listen Attend and Spell Paper (seq2seq ASR model)](https://arxiv.org/abs/1508.01211)\n",
    "- [Explanation of the mel spectrogram in more depth](https://towardsdatascience.com/getting-to-know-the-mel-spectrogram-31bca3e2d9d0)\n",
    "- [Jasper Paper](https://arxiv.org/abs/1904.03288)\n",
    "- [QuartzNet paper](https://arxiv.org/abs/1910.10261)\n",
    "- [SpecAugment Paper](https://arxiv.org/abs/1904.08779)\n",
    "- [Explanation and visualization of SpecAugment](https://towardsdatascience.com/state-of-the-art-audio-data-augmentation-with-google-brains-specaugment-and-pytorch-d3d1a3ce291e)\n",
    "- [Cutout Paper](https://arxiv.org/pdf/1708.04552.pdf)\n",
    "- [Transfer Learning Blogpost](https://developer.nvidia.com/blog/jump-start-training-for-speech-recognition-models-with-nemo/)"
   ]
  },
  {
   "cell_type": "code",
   "execution_count": null,
   "metadata": {
    "id": "V3ERGX86lR0V"
   },
   "outputs": [],
   "source": []
  }
 ],
 "metadata": {
  "accelerator": "GPU",
  "colab": {
   "collapsed_sections": [],
   "name": "ASR_with_NeMo.ipynb",
   "provenance": [],
   "toc_visible": true
  },
  "kernelspec": {
   "display_name": "Python 3",
   "language": "python",
   "name": "python3"
  },
  "language_info": {
   "codemirror_mode": {
    "name": "ipython",
    "version": 3
   },
   "file_extension": ".py",
   "mimetype": "text/x-python",
   "name": "python",
   "nbconvert_exporter": "python",
   "pygments_lexer": "ipython3",
   "version": "3.8.5"
  },
  "pycharm": {
   "stem_cell": {
    "cell_type": "raw",
    "metadata": {
     "collapsed": false
    },
    "source": []
   }
  }
 },
 "nbformat": 4,
 "nbformat_minor": 4
}
